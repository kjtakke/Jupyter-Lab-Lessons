{
 "cells": [
  {
   "cell_type": "markdown",
   "metadata": {},
   "source": [
    "<h1 style=\"color:#c4960c\">Python Basics Lesson</h1>\n",
    "<p>\n",
    "<h3>This lesson will cover:</h3>\n",
    "    <li>Formatting</li>\n",
    "    <li>Variables</li>\n",
    "    <li>Data types</li>\n",
    "    <li>Strings</li>\n",
    "    <li>String Formatting</li>\n",
    "    <li>Operators</li>\n",
    "    <li>Loops Functions</li>\n",
    "    <li>Custom Functions</li>\n",
    "    <li>Map and List Function</li>\n",
    "    <li>If Statments</li>\n",
    "</p>"
   ]
  },
  {
   "cell_type": "markdown",
   "metadata": {},
   "source": [
    "<h3 style=\"color:#c4960c\">Formatting</h3>\n",
    "<hr>\n",
    "<p>Python is <u style=\"color:red\"><b>CASE</b></u> sensitive!!!</p>\n",
    "<p>Python utilises ‘TAB’ to identify lines of code that are linked:</p>"
   ]
  },
  {
   "cell_type": "code",
   "execution_count": 1,
   "metadata": {},
   "outputs": [],
   "source": [
    "for x in range(50):     #First argument\n",
    "    y = x + 1           #Second argument"
   ]
  },
  {
   "cell_type": "raw",
   "metadata": {},
   "source": [
    "#                   identifies a comment\n",
    ":                   identifies a function or loop\n",
    "help(subject)       prints help text\n",
    "\"\"\" text here \"\"\"   three double quotations indicates help text"
   ]
  },
  {
   "cell_type": "code",
   "execution_count": 2,
   "metadata": {},
   "outputs": [
    {
     "name": "stdout",
     "output_type": "stream",
     "text": [
      "Help on function myFunction in module __main__:\n",
      "\n",
      "myFunction(x)\n",
      "    This is an example function\n",
      "\n"
     ]
    }
   ],
   "source": [
    "def myFunction(x):\n",
    "    \"\"\"This is an example function\"\"\"\n",
    "    x = x + 1\n",
    "    return x\n",
    "\n",
    "help(myFunction)"
   ]
  },
  {
   "cell_type": "markdown",
   "metadata": {},
   "source": [
    "<br><br>\n",
    "<h3 style=\"color:#c4960c\">Variables and data types</h3>\n",
    "<hr>"
   ]
  },
  {
   "cell_type": "markdown",
   "metadata": {},
   "source": [
    "<h4>Set Dynamiclly</h4>\n",
    "<li>A variable is a didicated space in your computers memery.</li>\n",
    "<li>Python unlike most programming languages automaticlly sets a variable type.</li>"
   ]
  },
  {
   "cell_type": "code",
   "execution_count": 3,
   "metadata": {},
   "outputs": [],
   "source": [
    "x01 = \"Hello World\"                              # str\n",
    "x02 = 20                                         # int\n",
    "x03 = 20.5                                       # float\n",
    "x04 = 1j                                         # complex\n",
    "x05 = [\"apple\", \"banana\", \"cherry\"]              # list\n",
    "x06 = (\"apple\", \"banana\", \"cherry\")              # tuple\n",
    "x07 = range(6)                                   # range\n",
    "x08 = {\"name\": \"John\", \"age\": 36}                # dict\n",
    "x09 = {\"apple\", \"banana\", \"cherry\"}              # set\n",
    "x10 = frozenset({\"apple\", \"banana\", \"cherry\"})   # frozenset\n",
    "x11 = True                                       # bool\n",
    "x12 = b\"Hello\"                                   # bytes\n",
    "x13 = bytearray(5)                               # bytearray\n",
    "x14 = memoryview(bytes(5))                       # memoryview"
   ]
  },
  {
   "cell_type": "markdown",
   "metadata": {},
   "source": [
    "<h4>Casting/Explicit</h4>\n",
    "<li>It is possible and sometimes nessary to set a data type.</li>"
   ]
  },
  {
   "cell_type": "code",
   "execution_count": 4,
   "metadata": {},
   "outputs": [],
   "source": [
    "y01 = str(1)\n",
    "y02 = int(1)\n",
    "y03 = float(1)\n",
    "y04 = complex(1j)\n",
    "y05 = list([\"apple\", \"banana\", \"cherry\"])\n",
    "y06 = tuple((\"apple\", \"banana\", \"cherry\"))\n",
    "y07 = range(6)\n",
    "y08 = dict({\"name\": \"John\", \"age\": 36})\n",
    "y09 = set({\"apple\", \"banana\", \"cherry\"})\n",
    "y10 = frozenset({\"apple\", \"banana\", \"cherry\"})\n",
    "y11 = bool(True)\n",
    "y12 = bytes(b\"Hello\")\n",
    "y13 = bytearray(5)\n",
    "y14 = memoryview(bytes(5))"
   ]
  },
  {
   "cell_type": "markdown",
   "metadata": {},
   "source": [
    "<p>Example:</p>\n",
    "<hr>"
   ]
  },
  {
   "cell_type": "code",
   "execution_count": 5,
   "metadata": {},
   "outputs": [
    {
     "name": "stdout",
     "output_type": "stream",
     "text": [
      "<class 'int'>\n"
     ]
    }
   ],
   "source": [
    "myNumber1 = 123456789                   #Set a variable\n",
    "print(type(myNumber1))                  #Print a variable's type"
   ]
  },
  {
   "cell_type": "code",
   "execution_count": 6,
   "metadata": {},
   "outputs": [
    {
     "name": "stdout",
     "output_type": "stream",
     "text": [
      "<class 'str'>\n"
     ]
    }
   ],
   "source": [
    "myNumber2 = str(myNumber1)              #Change a variable's type to string\n",
    "print(type(myNumber2))                  #Print a variable's type"
   ]
  },
  {
   "cell_type": "code",
   "execution_count": 7,
   "metadata": {},
   "outputs": [
    {
     "data": {
      "text/plain": [
       "'223456789'"
      ]
     },
     "execution_count": 7,
     "metadata": {},
     "output_type": "execute_result"
    }
   ],
   "source": [
    "myNumber3 = myNumber2.replace(\"1\",\"2\")  #Replace values in a string\n",
    "myNumber3 "
   ]
  },
  {
   "cell_type": "code",
   "execution_count": 8,
   "metadata": {},
   "outputs": [
    {
     "name": "stdout",
     "output_type": "stream",
     "text": [
      "<class 'int'>\n"
     ]
    }
   ],
   "source": [
    "myNumber4 = int(myNumber3)              #Change a variable's type to integer\n",
    "print(type(myNumber4))                  #Print a variable's type"
   ]
  },
  {
   "cell_type": "markdown",
   "metadata": {},
   "source": [
    "<hr>"
   ]
  },
  {
   "cell_type": "markdown",
   "metadata": {},
   "source": [
    "<br><br>\n",
    "<h3 style=\"color:#c4960c\">Strings</h3>\n",
    "<h4>String manipulation</h4>\n",
    "<hr>"
   ]
  },
  {
   "cell_type": "markdown",
   "metadata": {},
   "source": [
    "<h5>Selecting spicific parts of a string</h5>"
   ]
  },
  {
   "cell_type": "code",
   "execution_count": 9,
   "metadata": {},
   "outputs": [],
   "source": [
    "myString = \"Hello World \"              #Declaring a string variable"
   ]
  },
  {
   "cell_type": "raw",
   "metadata": {},
   "source": [
    "[]     is uesd to identify a position"
   ]
  },
  {
   "cell_type": "code",
   "execution_count": 10,
   "metadata": {},
   "outputs": [
    {
     "data": {
      "text/plain": [
       "'H'"
      ]
     },
     "execution_count": 10,
     "metadata": {},
     "output_type": "execute_result"
    }
   ],
   "source": [
    "myString[0]"
   ]
  },
  {
   "cell_type": "code",
   "execution_count": 11,
   "metadata": {},
   "outputs": [
    {
     "data": {
      "text/plain": [
       "'Hel'"
      ]
     },
     "execution_count": 11,
     "metadata": {},
     "output_type": "execute_result"
    }
   ],
   "source": [
    "myString[0:3]"
   ]
  },
  {
   "cell_type": "code",
   "execution_count": 12,
   "metadata": {},
   "outputs": [
    {
     "data": {
      "text/plain": [
       "'llo Worl'"
      ]
     },
     "execution_count": 12,
     "metadata": {},
     "output_type": "execute_result"
    }
   ],
   "source": [
    "myString[2:-2]"
   ]
  },
  {
   "cell_type": "markdown",
   "metadata": {},
   "source": [
    "<h5>Concatenation</h5>"
   ]
  },
  {
   "cell_type": "raw",
   "metadata": {},
   "source": [
    "+      is uest in to concatenate strings without a space\n",
    ",      is uest in to concatenate strings with a space"
   ]
  },
  {
   "cell_type": "code",
   "execution_count": 13,
   "metadata": {},
   "outputs": [
    {
     "name": "stdout",
     "output_type": "stream",
     "text": [
      "HelloWorld\n"
     ]
    }
   ],
   "source": [
    "print(\"Hello\" + \"World\")"
   ]
  },
  {
   "cell_type": "code",
   "execution_count": 14,
   "metadata": {},
   "outputs": [
    {
     "name": "stdout",
     "output_type": "stream",
     "text": [
      "Hello World\n"
     ]
    }
   ],
   "source": [
    "print(\"Hello\", \"World\")"
   ]
  },
  {
   "cell_type": "markdown",
   "metadata": {},
   "source": [
    "<br><br>\n",
    "<h3 style=\"color:#c4960c\">String Functions</h3>\n",
    "<hr>\n",
    "<li>capitalize()\t----Converts the first character to upper case</li>\n",
    "<li>casefold()\t----Converts string into lower case</li>\n",
    "<li>center()\t----Returns a centered string</li>\n",
    "<li>count()\t----Returns the number of times a specified value occurs in a string</li>\n",
    "<li>encode()\t----Returns an encoded version of the string</li>\n",
    "<li>endswith()\t----Returns true if the string ends with the specified value</li>\n",
    "<li>expandtabs()\t----Sets the tab size of the string</li>\n",
    "<li>find()\t----Searches the string for a specified value and returns the position of where it was found</li>\n",
    "<li>format()\t----Formats specified values in a string</li>\n",
    "<li>format_map()\t----Formats specified values in a string</li>\n",
    "<li>index()\t----Searches the string for a specified value and returns the position of where it was found</li>\n",
    "<li>isalnum()\t----Returns True if all characters in the string are alphanumeric</li>\n",
    "<li>isalpha()\t----Returns True if all characters in the string are in the alphabet</li>\n",
    "<li>isdecimal()\t----Returns True if all characters in the string are decimals</li>\n",
    "<li>isdigit()\t----Returns True if all characters in the string are digits</li>\n",
    "<li>isidentifier()\t----Returns True if the string is an identifier</li>\n",
    "<li>islower()\t----Returns True if all characters in the string are lower case</li>\n",
    "<li>isnumeric()\t----Returns True if all characters in the string are numeric</li>\n",
    "<li>isprintable()\t----Returns True if all characters in the string are printable</li>\n",
    "<li>isspace()\t----Returns True if all characters in the string are whitespaces</li>\n",
    "<li>istitle()\t----Returns True if the string follows the rules of a title</li>\n",
    "<li>isupper()\t----Returns True if all characters in the string are upper case</li>\n",
    "<li>join()\t----Joins the elements of an iterable to the end of the string</li>\n",
    "<li>ljust()\t----Returns a left justified version of the string</li>\n",
    "<li>lower()\t----Converts a string into lower case</li>\n",
    "<li>lstrip()\t----Returns a left trim version of the string</li>\n",
    "<li>maketrans()\t----Returns a translation table to be used in translations</li>\n",
    "<li>partition()\t----Returns a tuple where the string is parted into three parts</li>\n",
    "<li>replace()\t----Returns a string where a specified value is replaced with a specified value</li>\n",
    "<li>rfind()\t----Searches the string for a specified value and returns the last position of where it was found</li>\n",
    "<li>rindex()\t----Searches the string for a specified value and returns the last position of where it was found</li>\n",
    "<li>rjust()\t----Returns a right justified version of the string</li>\n",
    "<li>rpartition()\t----Returns a tuple where the string is parted into three parts</li>\n",
    "<li>rsplit()\t----Splits the string at the specified separator, and returns a list</li>\n",
    "<li>rstrip()\t----Returns a right trim version of the string</li>\n",
    "<li>split()\t----Splits the string at the specified separator, and returns a list</li>\n",
    "<li>splitlines()\t----Splits the string at line breaks and returns a list</li>\n",
    "<li>startswith()\t----Returns true if the string starts with the specified value</li>\n",
    "<li>strip()\t----Returns a trimmed version of the string</li>\n",
    "<li>swapcase()\t----Swaps cases, lower case becomes upper case and vice versa</li>\n",
    "<li>title()\t----Converts the first character of each word to upper case</li>\n",
    "<li>translate()\t----Returns a translated string</li>\n",
    "<li>upper()\t----Converts a string into upper case</li>\n",
    "<li>zfill()\t----Fills the string with a specified number of 0 values at the beginning</li>"
   ]
  },
  {
   "cell_type": "markdown",
   "metadata": {},
   "source": [
    "<h5>Examples</h5>\n",
    "<hr>"
   ]
  },
  {
   "cell_type": "code",
   "execution_count": 15,
   "metadata": {},
   "outputs": [
    {
     "name": "stdout",
     "output_type": "stream",
     "text": [
      "['Hello', 'World']\n"
     ]
    }
   ],
   "source": [
    "myString = \" Hello World \"   \n",
    "print(myString.split())"
   ]
  },
  {
   "cell_type": "code",
   "execution_count": 16,
   "metadata": {},
   "outputs": [
    {
     "name": "stdout",
     "output_type": "stream",
     "text": [
      " hello world \n"
     ]
    }
   ],
   "source": [
    "print(myString.lower())"
   ]
  },
  {
   "cell_type": "code",
   "execution_count": 17,
   "metadata": {},
   "outputs": [
    {
     "name": "stdout",
     "output_type": "stream",
     "text": [
      " HELLO WORLD \n"
     ]
    }
   ],
   "source": [
    "print(myString.upper())"
   ]
  },
  {
   "cell_type": "code",
   "execution_count": 18,
   "metadata": {},
   "outputs": [
    {
     "name": "stdout",
     "output_type": "stream",
     "text": [
      "Hello World\n"
     ]
    }
   ],
   "source": [
    " print(myString.strip())"
   ]
  },
  {
   "cell_type": "code",
   "execution_count": 19,
   "metadata": {},
   "outputs": [
    {
     "name": "stdout",
     "output_type": "stream",
     "text": [
      " Hellz Wzrld \n"
     ]
    }
   ],
   "source": [
    " print(myString.replace(\"o\",\"z\"))"
   ]
  },
  {
   "cell_type": "code",
   "execution_count": 20,
   "metadata": {},
   "outputs": [
    {
     "name": "stdout",
     "output_type": "stream",
     "text": [
      "Yello world\n"
     ]
    }
   ],
   "source": [
    "print(myString.strip().lower().replace(\"h\",\"y\").capitalize())"
   ]
  },
  {
   "cell_type": "code",
   "execution_count": 21,
   "metadata": {},
   "outputs": [
    {
     "name": "stdout",
     "output_type": "stream",
     "text": [
      "13\n"
     ]
    }
   ],
   "source": [
    "print(len(myString))"
   ]
  },
  {
   "cell_type": "code",
   "execution_count": 22,
   "metadata": {},
   "outputs": [
    {
     "data": {
      "text/plain": [
       "'Yello Hello'"
      ]
     },
     "execution_count": 22,
     "metadata": {},
     "output_type": "execute_result"
    }
   ],
   "source": [
    "myString1 = myString.split()                                                   #Convert a string into a list\n",
    "myString1_1 = str(myString1[0].strip().lower().replace(\"h\",\"y\").capitalize())  #Replace values in 'Hello'\n",
    "myString1_2 = str(myString1[0].strip().lower().replace(\"w\",\"h\").capitalize())  #Replace values in 'World'\n",
    "myString1 = myString1_1 + \" \" +  myString1_2                                   #Concatenate (a comma here will trun into a turple)\n",
    "myString1"
   ]
  },
  {
   "cell_type": "markdown",
   "metadata": {},
   "source": [
    "<br><br>\n",
    "<h3 style=\"color:#c4960c\">Operators</h3>\n",
    "<hr>"
   ]
  },
  {
   "cell_type": "markdown",
   "metadata": {},
   "source": [
    "<h5>Math Operators</h5>\n",
    "<p>Arithmetic operators are used with numeric values to perform common mathematical operations:</p>"
   ]
  },
  {
   "cell_type": "raw",
   "metadata": {},
   "source": [
    "#    Operator\tName\t        Example\n",
    "#    +\t        Addition\t    x + y\n",
    "#    -\t        Subtraction\t    x - y\n",
    "#    *\t        Multiplication\tx * y\n",
    "#    /\t        Division\t    x / y\n",
    "#    %\t        Modulus\t        x % y\n",
    "#    **\t        Exponentiation\tx ** y\n",
    "#    //\t        Floor division\tx // y"
   ]
  },
  {
   "cell_type": "markdown",
   "metadata": {},
   "source": [
    "<h5>Assignment Operators</h5>\n",
    "<p>Assignment operators are used to assign values to variables:</p>"
   ]
  },
  {
   "cell_type": "raw",
   "metadata": {},
   "source": [
    "#    Operator\tExample\t    Same As\n",
    "#    =\t        x = 5\t    x = 5\n",
    "#    +=\t        x += 3\t    x = x + 3\n",
    "#    -=\t        x -= 3\t    x = x - 3\n",
    "#    *=\t        x *= 3\t    x = x * 3\n",
    "#    /=\t        x /= 3\t    x = x / 3\n",
    "#    %=\t        x %= 3\t    x = x % 3\n",
    "#    //=\t    x //= 3\t    x = x // 3\n",
    "#    **=\t    x **= 3\t    x = x ** 3\n",
    "#    &=\t        x &= 3\t    x = x & 3\n",
    "#    |=\t        x |= 3\t    x = x | 3\n",
    "#    ^=\t        x ^= 3\t    x = x ^ 3\n",
    "#    >>=\t    x >>= 3\t    x = x >> 3\n",
    "#    <<=\t    x <<= 3\t    x = x << 3"
   ]
  },
  {
   "cell_type": "markdown",
   "metadata": {},
   "source": [
    "<h5>Comparison Operators</h5>\n",
    "<p>Comparison operators are used to compare two values:</p>"
   ]
  },
  {
   "cell_type": "raw",
   "metadata": {},
   "source": [
    "#    Operator\t    Name\t                    Example\n",
    "#    ==\t            Equal\t                    x == y\n",
    "#    !=\t            Not equal\t                x != y\n",
    "#    >\t            Greater than\t            x > y\n",
    "#    <\t            Less than\t                x < y\n",
    "#    >=\t            Greater than or equal to\tx >= y\n",
    "#    <=\t            Less than or equal to\t    x <= y"
   ]
  },
  {
   "cell_type": "markdown",
   "metadata": {},
   "source": [
    "<h5>Logical Operators</h5>\n",
    "<p>Logical operators are used to combine conditional statements:</p>"
   ]
  },
  {
   "cell_type": "raw",
   "metadata": {},
   "source": [
    "#    Operator\tDescription\t                                                Example\n",
    "#    and \t    Returns True if both statements are true\t                x < 5 and  x < 10\n",
    "#    or\t        Returns True if one of the statements is true               x < 5 or x < 4\n",
    "#    not\t    Reverse the result, returns False if the result is true\t    not(x < 5 and x < 10)"
   ]
  },
  {
   "cell_type": "markdown",
   "metadata": {},
   "source": [
    "<h5>Identity Operators</h5>\n",
    "<p>Identity operators are used to compare the objects, not if they are equal,but if they are actually the same object, with the same memory location:</p>"
   ]
  },
  {
   "cell_type": "raw",
   "metadata": {},
   "source": [
    "#    Operator\tDescription\t                                                Example\n",
    "#    is \t        Returns True if both variables are the same object\t    x is y\n",
    "#    is not\t    Returns True if both variables are not the same object\t    x is not y"
   ]
  },
  {
   "cell_type": "markdown",
   "metadata": {},
   "source": [
    "<h5>Membership Operators</h5>\n",
    "<p>Membership operators are used to test if a sequence is presented in an object:</p>"
   ]
  },
  {
   "cell_type": "raw",
   "metadata": {},
   "source": [
    "#    Operator\tDescription\t                                                                        Example\n",
    "#    in \t    Returns True if a sequence with the specified value is present in the object\t    x in y\n",
    "#    not in\t    Returns True if a sequence with the specified value is not present in the object\tx not in y"
   ]
  },
  {
   "cell_type": "markdown",
   "metadata": {},
   "source": [
    "<h5>Bitwise Operators</h5>\n",
    "<p>Bitwise operators are used to compare (binary) numbers:</p>"
   ]
  },
  {
   "cell_type": "raw",
   "metadata": {},
   "source": [
    "#    Operator\tName\t                Description\n",
    "#    & \t        AND\t                    Sets each bit to 1 if both bits are 1\n",
    "#    |\t        OR\t                    Sets each bit to 1 if one of two bits is 1\n",
    "#    ^\t        XOR\t                    Sets each bit to 1 if only one of two bits is 1\n",
    "#    ~ \t        NOT\t                    Inverts all the bits\n",
    "#    <<\t        Zero fill left shift\tShift left by pushing zeros in from the right and let\n",
    "# the leftmost bits fall off\n",
    "#    >>\t        Signed right shift\t    Shift right by pushing copies of the leftmost bit in from\n",
    "# the left, and let the rightmost bits fall off"
   ]
  },
  {
   "cell_type": "markdown",
   "metadata": {},
   "source": [
    "<br><br>\n",
    "<h3 style=\"color:#c4960c\">Methods</h3>\n",
    "<h5>Basic Loop</h5>\n",
    "<hr>"
   ]
  },
  {
   "cell_type": "code",
   "execution_count": 23,
   "metadata": {},
   "outputs": [
    {
     "name": "stdout",
     "output_type": "stream",
     "text": [
      "0\n",
      "1\n",
      "2\n",
      "3\n",
      "4\n"
     ]
    }
   ],
   "source": [
    "for x in range(5):                                 #Loop statment x is a tempary variable, range() is a counter from 0 to a given integer\n",
    "    print(x)                                       #Print Loop Counter"
   ]
  },
  {
   "cell_type": "code",
   "execution_count": 24,
   "metadata": {},
   "outputs": [
    {
     "data": {
      "text/plain": [
       "['H', 'e', 'l', 'l', 'o', ' ', 'W', 'o', 'r', 'l', 'd']"
      ]
     },
     "execution_count": 24,
     "metadata": {},
     "output_type": "execute_result"
    }
   ],
   "source": [
    "my_string_list = []                                #Declare an empty list\n",
    "myString_loop = \"Hello World\"                      #Declare a string variable\n",
    "\n",
    "for x in range(len(myString_loop)):                #Loop statment x is a tempary variable, range() is a counter from 0 to a given integer\n",
    "    my_string_list.append(myString_loop[x])        #Appending x, which to the list\n",
    "\n",
    "my_string_list"
   ]
  },
  {
   "cell_type": "markdown",
   "metadata": {},
   "source": [
    "<h5>For Each Loop</h5>"
   ]
  },
  {
   "cell_type": "code",
   "execution_count": 25,
   "metadata": {},
   "outputs": [
    {
     "name": "stdout",
     "output_type": "stream",
     "text": [
      "1\n",
      "2\n",
      "3\n",
      "4\n",
      "5\n"
     ]
    }
   ],
   "source": [
    "my_list1 = [1,2,3,4,5]                             #Declare a list of integers\n",
    "\n",
    "for x in my_list1:                                 #Iterates over each list item\n",
    "    print(x)                                         #Applies to each list item"
   ]
  },
  {
   "cell_type": "markdown",
   "metadata": {},
   "source": [
    "<h5>While Loop</h5>"
   ]
  },
  {
   "cell_type": "code",
   "execution_count": 26,
   "metadata": {},
   "outputs": [
    {
     "name": "stdout",
     "output_type": "stream",
     "text": [
      "1\n",
      "2\n",
      "3\n",
      "4\n",
      "5\n"
     ]
    }
   ],
   "source": [
    "my_Var1 = 0                                        #Declare a list of integers\n",
    "\n",
    "while my_Var1 < 5:                                 #Iterates untill condission is met\n",
    "    my_Var1 += 1                                     #Add 1 to variable\n",
    "    print(my_Var1)                                   #Does somthing"
   ]
  },
  {
   "cell_type": "markdown",
   "metadata": {},
   "source": [
    "<h5>Single Line Function (lambda)</h5>\n",
    "<hr>"
   ]
  },
  {
   "cell_type": "code",
   "execution_count": 27,
   "metadata": {},
   "outputs": [
    {
     "data": {
      "text/plain": [
       "6"
      ]
     },
     "execution_count": 27,
     "metadata": {},
     "output_type": "execute_result"
    }
   ],
   "source": [
    "myInteger1 = 5                                     #Declaring a Integer Variable\n",
    "myLambda1 = lambda x: x + 1                        #x is the variable   befoer ':' is the input variabel    after ':' is the action taken\n",
    "myInteger1 = myLambda1(myInteger1)                 #Calling the function\n",
    "myInteger1"
   ]
  },
  {
   "cell_type": "code",
   "execution_count": 28,
   "metadata": {},
   "outputs": [
    {
     "data": {
      "text/plain": [
       "10"
      ]
     },
     "execution_count": 28,
     "metadata": {},
     "output_type": "execute_result"
    }
   ],
   "source": [
    "myInteger2 = 5                                     #Declaring a Integer Variable\n",
    "myInteger3 = 10                                    #Declaring a Integer Variable\n",
    "myLambda2 = lambda x,y: x + y                      #x and y are the variables -befoer ':' is the input variabel -after ':' is the action taken\n",
    "myInteger4 = myLambda2(myInteger2, myInteger2)     #Calling the function\n",
    "myInteger4"
   ]
  },
  {
   "cell_type": "markdown",
   "metadata": {},
   "source": [
    "<br><br>\n",
    "<h5>Multi Line Function (def)</h5>\n",
    "<hr>"
   ]
  },
  {
   "cell_type": "code",
   "execution_count": 2,
   "metadata": {},
   "outputs": [
    {
     "data": {
      "text/plain": [
       "'1.2'"
      ]
     },
     "execution_count": 2,
     "metadata": {},
     "output_type": "execute_result"
    }
   ],
   "source": [
    "myIntege5 = 1.2                                   #Declaring a Float Variable\n",
    "def myFunction1(x):                               #Seting the function parameters\n",
    "    x = str(x)                                      #Converting float into a string\n",
    "    return x                                        #The function's output\n",
    "\n",
    "myIntege5 = myFunction1(myIntege5)                #Calling the function\n",
    "myIntege5"
   ]
  },
  {
   "cell_type": "markdown",
   "metadata": {},
   "source": [
    "<br><br>\n",
    "<h5>Basic class</h5>\n",
    "<h5>A useful weay to group your functions; however, a class has A LOT more to offer!</h5>\n",
    "<hr>"
   ]
  },
  {
   "cell_type": "code",
   "execution_count": 4,
   "metadata": {},
   "outputs": [
    {
     "data": {
      "text/plain": [
       "'1'"
      ]
     },
     "execution_count": 4,
     "metadata": {},
     "output_type": "execute_result"
    }
   ],
   "source": [
    "class MyClass:\n",
    "    \n",
    "    def myFunction3(x):                               #Seting the function parameters\n",
    "        x = str(x)                                      #Converting float into a string\n",
    "        return x \n",
    "    \n",
    "    \n",
    "    def myFunction2(x):                               #Seting the function parameters\n",
    "        x = str(x)                                      #Converting float into a string\n",
    "        return x \n",
    "\n",
    "MyClass.myFunction3(1)"
   ]
  },
  {
   "cell_type": "markdown",
   "metadata": {},
   "source": [
    "<br><br>\n",
    "<h5>Iterating  a function over a list (map)</h5>\n",
    "<hr>"
   ]
  },
  {
   "cell_type": "code",
   "execution_count": 30,
   "metadata": {},
   "outputs": [
    {
     "data": {
      "text/plain": [
       "['Y', 'e', 'l', 'l', 'o', ' ', 'W', 'o', 'r', 'l', 'd']"
      ]
     },
     "execution_count": 30,
     "metadata": {},
     "output_type": "execute_result"
    }
   ],
   "source": [
    "my_list2 = ['H', 'e', 'l', 'l', 'o', ' ', 'W', 'o', 'r', 'l', 'd']   #Declaring a List of Strings\n",
    "\n",
    "my_list2 = list(                                                     #Converting a map object into a list\n",
    "    map(                                                               #map() function to iterate over each list item\n",
    "        lambda x: x.replace(\"H\",\"Y\"),                                      #Selected lambda function (you can refer to a function)\n",
    "        my_list2                                                           #identifying the list to run the function over\n",
    "       )\n",
    ")\n",
    "\n",
    "my_list2"
   ]
  },
  {
   "cell_type": "code",
   "execution_count": 31,
   "metadata": {},
   "outputs": [
    {
     "name": "stdout",
     "output_type": "stream",
     "text": [
      "From\n",
      "[1, 2, 3, 4, 5, 6, 7, 8, 9, 10]\n",
      "To\n",
      "[4, 3, 2, 1, 0, 1, 2, 3, 4, 5]\n"
     ]
    }
   ],
   "source": [
    "myLambda3 = lambda x: x - 5 if x > 5 else 5 - x                     #Declaring a lambda function with an if statment\n",
    "#                Var: arg - do if True else do\n",
    "my_list3 = list(                                                    #Converting a range into a list\n",
    "    range(                                                            #range between two numbers\n",
    "        1,                                                              #Range form\n",
    "        11                                                              #Range to\n",
    "    )\n",
    ")\n",
    "print(\"From\")\n",
    "print(my_list3)\n",
    "\n",
    "my_list3 = list(                                                     #Converting a map object into a list\n",
    "    map(                                                               #map() function to iterate over each list item\n",
    "        myLambda3,                                                       #Selected lambda function \n",
    "        my_list3                                                         #identifying the list to run the function over\n",
    "    )\n",
    ")\n",
    "print(\"To\")\n",
    "print(my_list3)"
   ]
  },
  {
   "cell_type": "markdown",
   "metadata": {},
   "source": [
    "<br><br>\n",
    "<h5>If Statments</h5>\n",
    "<hr>"
   ]
  },
  {
   "cell_type": "markdown",
   "metadata": {},
   "source": [
    "<p>Multi line if statment</p>"
   ]
  },
  {
   "cell_type": "code",
   "execution_count": 32,
   "metadata": {},
   "outputs": [
    {
     "name": "stdout",
     "output_type": "stream",
     "text": [
      "Greater than 100\n"
     ]
    }
   ],
   "source": [
    "myVar1 = 150                                                 #Declaring an integer\n",
    "\n",
    "if myVar1 > 100:                                             #First argument\n",
    "    print(\"Greater than 100\")                                  #If true do somthing\n",
    "elif myVar1 == 100:                                          #Second argument\n",
    "    print(\"Equals 100\")                                        #If true do somthing\n",
    "else:                                                        #If it does not meet any of the above requirements\n",
    "    print(\"Less than 100\")                                     #Do somthing"
   ]
  },
  {
   "cell_type": "markdown",
   "metadata": {},
   "source": [
    "<p>Single line if statment</p>"
   ]
  },
  {
   "cell_type": "code",
   "execution_count": 33,
   "metadata": {},
   "outputs": [
    {
     "name": "stdout",
     "output_type": "stream",
     "text": [
      "Greater than 100\n"
     ]
    }
   ],
   "source": [
    "myVar2 = 150\n",
    "if myVar2 > 100: print(\"Greater than 100\")"
   ]
  }
 ],
 "metadata": {
  "kernelspec": {
   "display_name": "myenv",
   "language": "python",
   "name": "myenv"
  },
  "language_info": {
   "codemirror_mode": {
    "name": "ipython",
    "version": 3
   },
   "file_extension": ".py",
   "mimetype": "text/x-python",
   "name": "python",
   "nbconvert_exporter": "python",
   "pygments_lexer": "ipython3",
   "version": "3.8.2"
  }
 },
 "nbformat": 4,
 "nbformat_minor": 4
}
