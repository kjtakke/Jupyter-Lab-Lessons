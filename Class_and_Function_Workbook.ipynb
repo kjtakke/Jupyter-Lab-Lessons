{
 "cells": [
  {
   "cell_type": "markdown",
   "metadata": {},
   "source": [
    "<h1 style=\"color:#c4960c\">Classes and Functions Workbook</h1>\n",
    "<hr>\n",
    "<br>"
   ]
  },
  {
   "cell_type": "markdown",
   "metadata": {},
   "source": [
    "<h3>Below are formula sheets relating to engineering.</h3>\n",
    "<h5>Your task is to create a class for each subject and a internal function for each equation.</h5>\n",
    "<p><i>Note: The below sheets are in no specific order of difficulty</i><p>\n",
    "<li>The intent of this workbook is to get you familiar with Classes, Functions, Loops and Data Types.</li>\n",
    "<li>Moving forward it is suggested that you review your work and improve upon it as you knowledge base grows.</li>\n",
    "<li>The Statistics Class on Sheet one has been completed as an example to draw techniques from.</li>\n",
    "<hr>"
   ]
  },
  {
   "cell_type": "markdown",
   "metadata": {},
   "source": [
    "<img src=\"https://image.slidesharecdn.com/engineeringformulasheet-131117005100-phpapp01/95/engineering-formula-sheet-1-638.jpg?cb=1384649503\"></img>"
   ]
  },
  {
   "cell_type": "code",
   "execution_count": 28,
   "metadata": {},
   "outputs": [
    {
     "name": "stdout",
     "output_type": "stream",
     "text": [
      "Help on class Statistics in module __main__:\n",
      "\n",
      "class Statistics(builtins.object)\n",
      " |  This class cover the basic statistical functions:\n",
      " |  Mean\n",
      " |  Standard Deviation\n",
      " |  Mode\n",
      " |  Median\n",
      " |  Range\n",
      " |  \n",
      " |  Methods defined here:\n",
      " |  \n",
      " |  Mean(lst)\n",
      " |      This function finds the mean value of a list of numbers:\n",
      " |      \n",
      " |      in:  lst = [1,5,43,9,7,5,3]\n",
      " |      in:  Statistics.Mean(lst)\n",
      " |      \n",
      " |      out: 10.428571428571429\n",
      " |  \n",
      " |  Median(lst)\n",
      " |      This function returns the median of a list of numbers\n",
      " |      \n",
      " |      ODD\n",
      " |      in:  lst = [1,8,5,2,5,1,8,9,8,4,2,5,6]\n",
      " |      in:  Statistics.Median(lst)\n",
      " |      \n",
      " |      out: 8.5\n",
      " |      \n",
      " |              \n",
      " |      EVEN\n",
      " |      in:  lst = [1,8,5,2,5,1,8,9,8,4,2,5]\n",
      " |      in:  Statistics.Median(lst)\n",
      " |      \n",
      " |      out: 8\n",
      " |  \n",
      " |  Mode(lst)\n",
      " |      This function calculates teh mode in a list of numbers\n",
      " |      \n",
      " |      in:  lst =[1,8,5,2,5,1,8,9,8,4,2,5,8]\n",
      " |      in:  Statistics.Mode(lst)\n",
      " |      \n",
      " |      out: 8\n",
      " |  \n",
      " |  Range(lst)\n",
      " |      This function returns the range of a list of numbers\n",
      " |      \n",
      " |      in:  lst = [1,8,5,2,5,1,8,9,8,4,2,5,8]\n",
      " |      in:  Statistics.Range(lst)\n",
      " |      \n",
      " |      out: range(1, 9)\n",
      " |  \n",
      " |  StdDev(lst)\n",
      " |      This function calculates teh Standard Devation of a list of numbers\n",
      " |      \n",
      " |      in:  lst= [20,10,5,2,12,145,100]\n",
      " |      in:  Statistics.StdDev(lst)\n",
      " |      \n",
      " |      out: 52.57647491307984\n",
      " |  \n",
      " |  ----------------------------------------------------------------------\n",
      " |  Data descriptors defined here:\n",
      " |  \n",
      " |  __dict__\n",
      " |      dictionary for instance variables (if defined)\n",
      " |  \n",
      " |  __weakref__\n",
      " |      list of weak references to the object (if defined)\n",
      "\n"
     ]
    }
   ],
   "source": [
    "class Statistics:\n",
    "    \"\"\"\n",
    "    This class cover the basic statistical functions:\n",
    "    Mean\n",
    "    Standard Deviation\n",
    "    Mode\n",
    "    Median\n",
    "    Range\n",
    "    \"\"\"\n",
    "    \n",
    "    \n",
    "    def Mean(lst):\n",
    "        \"\"\"\n",
    "        This function finds the mean value of a list of numbers:\n",
    "        \n",
    "        in:  lst = [1,5,43,9,7,5,3]\n",
    "        in:  Statistics.Mean(lst)\n",
    "        \n",
    "        out: 10.428571428571429\n",
    "        \"\"\"\n",
    "        \n",
    "        cntS = 0\n",
    "        cntC = 0\n",
    "        for x in lst:\n",
    "            cntS += x\n",
    "            cntC += 1\n",
    "        return cntS/cntC\n",
    "       \n",
    "        \n",
    "        \n",
    "    def StdDev(lst):\n",
    "        \"\"\"\n",
    "        This function calculates teh Standard Devation of a list of numbers\n",
    "        \n",
    "        in:  lst= [20,10,5,2,12,145,100]\n",
    "        in:  Statistics.StdDev(lst)\n",
    "        \n",
    "        out: 52.57647491307984\n",
    "        \"\"\"\n",
    "        import math\n",
    "        tmp_lst = []\n",
    "        E = 0\n",
    "        n = 0\n",
    "        \n",
    "        u = Statistics.Mean(lst)\n",
    "        \n",
    "        for x in lst:\n",
    "            tmp_lst.append((x-u)*(x-u))\n",
    "        \n",
    "        for j in tmp_lst:\n",
    "            E += j \n",
    "        \n",
    "        for k in lst:\n",
    "            n += 1\n",
    "        \n",
    "        return math.sqrt(E/n)\n",
    "        \n",
    "    \n",
    "    \n",
    "    def Mode(lst):\n",
    "        \"\"\"\n",
    "        This function calculates teh mode in a list of numbers\n",
    "        \n",
    "        in:  lst =[1,8,5,2,5,1,8,9,8,4,2,5,8]\n",
    "        in:  Statistics.Mode(lst)\n",
    "        \n",
    "        out: 8\n",
    "        \"\"\"\n",
    "        lst.sort()\n",
    "        tmp_lst = []\n",
    "        \n",
    "        tmp_lst = []\n",
    "        unique_list = [] \n",
    "    \n",
    "        for x in lst: \n",
    "            if x not in unique_list: \n",
    "                unique_list.append(x) \n",
    "\n",
    "        for x in unique_list:\n",
    "            cnt = 0\n",
    "            for j in lst:\n",
    "                if x == j:\n",
    "                    cnt += 1\n",
    "            tmp_lst.append([x, cnt])\n",
    "        \n",
    "        def get2nd(elem):\n",
    "            return elem[1]\n",
    "        \n",
    "        tmp_lst.sort(reverse=True, key=get2nd)\n",
    "        ans = tmp_lst[0]\n",
    "            \n",
    "        return ans[0]\n",
    "       \n",
    " \n",
    "\n",
    "    def Median(lst):\n",
    "        \"\"\"\n",
    "        This function returns the median of a list of numbers\n",
    "        \n",
    "        ODD\n",
    "        in:  lst = [1,8,5,2,5,1,8,9,8,4,2,5,6]\n",
    "        in:  Statistics.Median(lst)\n",
    "        \n",
    "        out: 8.5\n",
    "        \n",
    "                \n",
    "        EVEN\n",
    "        in:  lst = [1,8,5,2,5,1,8,9,8,4,2,5]\n",
    "        in:  Statistics.Median(lst)\n",
    "        \n",
    "        out: 8\n",
    "        \"\"\"\n",
    "        \n",
    "        cnt = 0\n",
    "        for x in lst:\n",
    "            cnt += 1\n",
    "        \n",
    "        if (cnt % 2) == 0:\n",
    "            Even = True\n",
    "        else:\n",
    "            Even = False\n",
    "        \n",
    "        if Even == True:\n",
    "            H1 = cnt/2\n",
    "            return lst[int(H1)]\n",
    "        else:\n",
    "            H1 = int((cnt - 1) / 2)\n",
    "            H2 = H1 + 1\n",
    "            return (lst[int(H1)] + lst[int(H2)]) / 2\n",
    "        \n",
    "    \n",
    "    \n",
    "    def Range(lst):\n",
    "        \"\"\"\n",
    "        This function returns the range of a list of numbers\n",
    "        \n",
    "        in:  lst = [1,8,5,2,5,1,8,9,8,4,2,5,8]\n",
    "        in:  Statistics.Range(lst)\n",
    "        \n",
    "        out: range(1, 9)\n",
    "        \"\"\"\n",
    "        stL = sorted(lst)\n",
    "        st = stL[0]\n",
    "        \n",
    "        enL = sorted(lst, reverse=True)\n",
    "        en = enL[0]\n",
    "        \n",
    "        return range(st, en)\n",
    "\n",
    "help(Statistics)"
   ]
  },
  {
   "cell_type": "code",
   "execution_count": 27,
   "metadata": {},
   "outputs": [
    {
     "data": {
      "text/plain": [
       "8"
      ]
     },
     "execution_count": 27,
     "metadata": {},
     "output_type": "execute_result"
    }
   ],
   "source": [
    "class Probability:\n",
    "    \"\"\"\n",
    "    This class cover the basic probability functions:\n",
    "    Frequency\n",
    "    Binomial Probability\n",
    "    Independent Events\n",
    "    Mutually Exclusive Events\n",
    "    Conditional Probability\n",
    "    \"\"\"\n",
    "    def Frequency(lst):\n",
    "        \"\"\"\n",
    "        This function ....\n",
    "        \"\"\"\n",
    "        pass             #Used when a function is empty in order to avert any errors\n",
    "    \n",
    "    \n",
    "    "
   ]
  },
  {
   "cell_type": "markdown",
   "metadata": {},
   "source": [
    "<img src=\"https://image.slidesharecdn.com/engineeringformulasheet-131117005100-phpapp01/95/engineering-formula-sheet-2-638.jpg?cb=1384649503\"></img>"
   ]
  },
  {
   "cell_type": "code",
   "execution_count": null,
   "metadata": {},
   "outputs": [],
   "source": []
  },
  {
   "cell_type": "code",
   "execution_count": null,
   "metadata": {},
   "outputs": [],
   "source": []
  },
  {
   "cell_type": "code",
   "execution_count": null,
   "metadata": {},
   "outputs": [],
   "source": []
  },
  {
   "cell_type": "markdown",
   "metadata": {},
   "source": [
    "<img src=\"https://image.slidesharecdn.com/engineeringformulasheet-131117005100-phpapp01/95/engineering-formula-sheet-3-638.jpg?cb=1384649503\"></img>"
   ]
  },
  {
   "cell_type": "code",
   "execution_count": null,
   "metadata": {},
   "outputs": [],
   "source": []
  },
  {
   "cell_type": "code",
   "execution_count": null,
   "metadata": {},
   "outputs": [],
   "source": []
  },
  {
   "cell_type": "code",
   "execution_count": null,
   "metadata": {},
   "outputs": [],
   "source": []
  },
  {
   "cell_type": "markdown",
   "metadata": {},
   "source": [
    "<img src=\"https://image.slidesharecdn.com/engineeringformulasheet-131117005100-phpapp01/95/engineering-formula-sheet-4-638.jpg?cb=1384649503\"></img>"
   ]
  },
  {
   "cell_type": "markdown",
   "metadata": {},
   "source": []
  },
  {
   "cell_type": "markdown",
   "metadata": {},
   "source": []
  },
  {
   "cell_type": "markdown",
   "metadata": {},
   "source": [
    "<img src=\"https://image.slidesharecdn.com/engineeringformulasheet-131117005100-phpapp01/95/engineering-formula-sheet-5-638.jpg?cb=1384649503\"></img>"
   ]
  },
  {
   "cell_type": "code",
   "execution_count": null,
   "metadata": {},
   "outputs": [],
   "source": []
  },
  {
   "cell_type": "code",
   "execution_count": null,
   "metadata": {},
   "outputs": [],
   "source": []
  },
  {
   "cell_type": "code",
   "execution_count": null,
   "metadata": {},
   "outputs": [],
   "source": []
  },
  {
   "cell_type": "markdown",
   "metadata": {},
   "source": [
    "<img src=\"https://image.slidesharecdn.com/engineeringformulasheet-131117005100-phpapp01/95/engineering-formula-sheet-6-638.jpg?cb=1384649503\"></img>"
   ]
  },
  {
   "cell_type": "code",
   "execution_count": null,
   "metadata": {},
   "outputs": [],
   "source": []
  },
  {
   "cell_type": "markdown",
   "metadata": {},
   "source": [
    "<img src=\"https://image.slidesharecdn.com/engineeringformulasheet-131117005100-phpapp01/95/engineering-formula-sheet-7-638.jpg?cb=1384649503\"></img>"
   ]
  },
  {
   "cell_type": "code",
   "execution_count": null,
   "metadata": {},
   "outputs": [],
   "source": []
  },
  {
   "cell_type": "code",
   "execution_count": null,
   "metadata": {},
   "outputs": [],
   "source": []
  },
  {
   "cell_type": "code",
   "execution_count": null,
   "metadata": {},
   "outputs": [],
   "source": []
  },
  {
   "cell_type": "markdown",
   "metadata": {},
   "source": [
    "<img src=\"https://image.slidesharecdn.com/engineeringformulasheet-131117005100-phpapp01/95/engineering-formula-sheet-8-638.jpg?cb=1384649503\"></img>"
   ]
  },
  {
   "cell_type": "markdown",
   "metadata": {},
   "source": [
    "<img src=\"https://image.slidesharecdn.com/engineeringformulasheet-131117005100-phpapp01/95/engineering-formula-sheet-9-638.jpg?cb=1384649503\"></img>"
   ]
  },
  {
   "cell_type": "code",
   "execution_count": null,
   "metadata": {},
   "outputs": [],
   "source": []
  },
  {
   "cell_type": "code",
   "execution_count": null,
   "metadata": {},
   "outputs": [],
   "source": []
  },
  {
   "cell_type": "code",
   "execution_count": null,
   "metadata": {},
   "outputs": [],
   "source": []
  },
  {
   "cell_type": "markdown",
   "metadata": {},
   "source": [
    "<img src=\"https://image.slidesharecdn.com/engineeringformulasheet-131117005100-phpapp01/95/engineering-formula-sheet-10-638.jpg?cb=1384649503\"></img>"
   ]
  },
  {
   "cell_type": "code",
   "execution_count": null,
   "metadata": {},
   "outputs": [],
   "source": []
  }
 ],
 "metadata": {
  "kernelspec": {
   "display_name": "myenv",
   "language": "python",
   "name": "myenv"
  },
  "language_info": {
   "codemirror_mode": {
    "name": "ipython",
    "version": 3
   },
   "file_extension": ".py",
   "mimetype": "text/x-python",
   "name": "python",
   "nbconvert_exporter": "python",
   "pygments_lexer": "ipython3",
   "version": "3.8.2"
  }
 },
 "nbformat": 4,
 "nbformat_minor": 4
}
