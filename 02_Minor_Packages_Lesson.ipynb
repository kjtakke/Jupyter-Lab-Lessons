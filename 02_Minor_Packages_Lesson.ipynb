{
 "cells": [
  {
   "cell_type": "markdown",
   "metadata": {},
   "source": [
    "<h1 style=\"color:#c4960c\">Minor Packages Lesson</h1>\n",
    "<h3>NumPy, DateTime and Statistics</h3>\n",
    "<hr>"
   ]
  },
  {
   "cell_type": "markdown",
   "metadata": {},
   "source": [
    "<h4 style=\"color:#c4960c\">Imports</h4>"
   ]
  },
  {
   "cell_type": "code",
   "execution_count": 1,
   "metadata": {},
   "outputs": [],
   "source": [
    "import numpy as np\n",
    "import math\n",
    "import functools\n",
    "import statistics as stats\n",
    "import datetime as dt"
   ]
  },
  {
   "cell_type": "markdown",
   "metadata": {},
   "source": [
    "<h4 style=\"color:#c4960c\">Numpy</h4>\n",
    "<hr>\n",
    "<p>The Math Package has all the basic matimatical functions that you would expect such as:\n",
    "    <li>tan</li>\n",
    "    <li>cos</li>\n",
    "    <li>sin</li>\n",
    "    <li>...</li> \n",
    "</p>"
   ]
  },
  {
   "cell_type": "code",
   "execution_count": 2,
   "metadata": {},
   "outputs": [
    {
     "data": {
      "text/plain": [
       "-0.6358599286615808"
      ]
     },
     "execution_count": 2,
     "metadata": {},
     "output_type": "execute_result"
    }
   ],
   "source": [
    "var1 = math.tan(12)\n",
    "var1"
   ]
  },
  {
   "cell_type": "code",
   "execution_count": 3,
   "metadata": {},
   "outputs": [
    {
     "data": {
      "text/plain": [
       "0.8438539587324921"
      ]
     },
     "execution_count": 3,
     "metadata": {},
     "output_type": "execute_result"
    }
   ],
   "source": [
    "var2 = math.cos(12)\n",
    "var2"
   ]
  },
  {
   "cell_type": "code",
   "execution_count": 4,
   "metadata": {},
   "outputs": [
    {
     "data": {
      "text/plain": [
       "-0.5365729180004349"
      ]
     },
     "execution_count": 4,
     "metadata": {},
     "output_type": "execute_result"
    }
   ],
   "source": [
    "var3 = math.sin(12)\n",
    "var3"
   ]
  },
  {
   "cell_type": "markdown",
   "metadata": {},
   "source": [
    "<br><br>\n",
    "<h4 style=\"color:#c4960c\">Numpy</h4>\n",
    "<hr>\n",
    "<p>Numpy has advanced mathamatics that expands upon the math package including but far from limited to:\n",
    "    <li>sum</li>\n",
    "    <li>min</li>\n",
    "    <li>max</li>\n",
    "    <li>count_nonzero</li>\n",
    "    <li>mean</li>\n",
    "    <li>...</li>\n",
    "</p>"
   ]
  },
  {
   "cell_type": "markdown",
   "metadata": {},
   "source": [
    "<h5>List of Random Numbers</h5>"
   ]
  },
  {
   "cell_type": "code",
   "execution_count": 5,
   "metadata": {},
   "outputs": [],
   "source": [
    "import random\n",
    "\n",
    "my_list1 = []\n",
    "myRand1 = random.randint(10,99)\n",
    "for x in range(myRand1):\n",
    "    my_list1.append(random.randint(10,99))\n",
    "    \n",
    "my_list2 = []\n",
    "for x in range(myRand1):\n",
    "    my_list1.append(random.randint(10,99))"
   ]
  },
  {
   "cell_type": "code",
   "execution_count": 6,
   "metadata": {},
   "outputs": [
    {
     "data": {
      "text/plain": [
       "{'Sum': 9101, 'Min': 10, 'Max': 98, 'Count': 158}"
      ]
     },
     "execution_count": 6,
     "metadata": {},
     "output_type": "execute_result"
    }
   ],
   "source": [
    "my_dict1 = {\n",
    "    \"Sum\": np.sum(my_list1),\n",
    "    \"Min\": np.min(my_list1),\n",
    "    \"Max\": np.max(my_list1),\n",
    "    \"Count\": np.count_nonzero(my_list1)\n",
    "}\n",
    "my_dict1"
   ]
  },
  {
   "cell_type": "markdown",
   "metadata": {},
   "source": [
    "<h5>np.dstack()</h5>"
   ]
  },
  {
   "cell_type": "code",
   "execution_count": 7,
   "metadata": {},
   "outputs": [
    {
     "data": {
      "text/plain": [
       "array([[[26, 26],\n",
       "        [13, 13],\n",
       "        [66, 66],\n",
       "        [29, 29],\n",
       "        [24, 24]]])"
      ]
     },
     "execution_count": 7,
     "metadata": {},
     "output_type": "execute_result"
    }
   ],
   "source": [
    "myarray1 = np.dstack((my_list1, my_list1))\n",
    "myarray1[:,0:5]"
   ]
  },
  {
   "cell_type": "markdown",
   "metadata": {},
   "source": [
    "<h5>np.hstack()</h5>"
   ]
  },
  {
   "cell_type": "code",
   "execution_count": 8,
   "metadata": {},
   "outputs": [
    {
     "data": {
      "text/plain": [
       "array([13, 66, 29, 24, 98, 53, 65, 39, 76])"
      ]
     },
     "execution_count": 8,
     "metadata": {},
     "output_type": "execute_result"
    }
   ],
   "source": [
    "myarray2 = np.hstack((my_list1, my_list1))\n",
    "myarray2[1:10]"
   ]
  },
  {
   "cell_type": "markdown",
   "metadata": {},
   "source": [
    "<h5>np.vstack()</h5>"
   ]
  },
  {
   "cell_type": "code",
   "execution_count": 9,
   "metadata": {},
   "outputs": [
    {
     "data": {
      "text/plain": [
       "array([[26, 13, 66, 29, 24],\n",
       "       [26, 13, 66, 29, 24]])"
      ]
     },
     "execution_count": 9,
     "metadata": {},
     "output_type": "execute_result"
    }
   ],
   "source": [
    "myarray3 = np.vstack((my_list1, my_list1))\n",
    "myarray3[:,0:5]"
   ]
  },
  {
   "cell_type": "markdown",
   "metadata": {},
   "source": [
    "<h5>np.concatenate()</h5>"
   ]
  },
  {
   "cell_type": "code",
   "execution_count": 10,
   "metadata": {},
   "outputs": [
    {
     "data": {
      "text/plain": [
       "array([26, 13, 66, 29, 24])"
      ]
     },
     "execution_count": 10,
     "metadata": {},
     "output_type": "execute_result"
    }
   ],
   "source": [
    "myarray4 = np.concatenate((my_list1, my_list1))\n",
    "myarray4[0:5]"
   ]
  },
  {
   "cell_type": "markdown",
   "metadata": {},
   "source": [
    "<h5>np.stack()</h5>"
   ]
  },
  {
   "cell_type": "code",
   "execution_count": 11,
   "metadata": {},
   "outputs": [
    {
     "data": {
      "text/plain": [
       "array([[26, 13, 66, 29, 24],\n",
       "       [26, 13, 66, 29, 24]])"
      ]
     },
     "execution_count": 11,
     "metadata": {},
     "output_type": "execute_result"
    }
   ],
   "source": [
    "myarray5 = np.stack((my_list1, my_list1))\n",
    "myarray5[:,0:5]"
   ]
  },
  {
   "cell_type": "markdown",
   "metadata": {},
   "source": [
    "<br><br>\n",
    "<h4 style=\"color:#c4960c\">DateTime</h4>\n",
    "<hr>\n",
    "<p>DateTime has most things you will ever need relating to dates and time:\n",
    "    <li>Date</li>\n",
    "    <li>DateTime</li>\n",
    "    <li>Now</li>\n",
    "    <li>Weekday</li>\n",
    "    <li>Day</li>\n",
    "    <li>Month</li>\n",
    "    <li>Year</li>\n",
    "    <li>...</li>\n",
    "</p>"
   ]
  },
  {
   "cell_type": "markdown",
   "metadata": {},
   "source": [
    "<h5>now()</h5>"
   ]
  },
  {
   "cell_type": "code",
   "execution_count": 12,
   "metadata": {},
   "outputs": [
    {
     "data": {
      "text/plain": [
       "datetime.datetime(2020, 5, 7, 8, 34, 20, 868508)"
      ]
     },
     "execution_count": 12,
     "metadata": {},
     "output_type": "execute_result"
    }
   ],
   "source": [
    "myDateTime1 = dt.datetime.now(tz=None)\n",
    "myDateTime1"
   ]
  },
  {
   "cell_type": "markdown",
   "metadata": {},
   "source": [
    "<h5>today()</h5>"
   ]
  },
  {
   "cell_type": "code",
   "execution_count": 13,
   "metadata": {},
   "outputs": [
    {
     "data": {
      "text/plain": [
       "datetime.date(2020, 5, 7)"
      ]
     },
     "execution_count": 13,
     "metadata": {},
     "output_type": "execute_result"
    }
   ],
   "source": [
    "myDate1 = dt.date.today()\n",
    "myDate1"
   ]
  },
  {
   "cell_type": "markdown",
   "metadata": {},
   "source": [
    "<h5>day</h5>"
   ]
  },
  {
   "cell_type": "code",
   "execution_count": 14,
   "metadata": {},
   "outputs": [
    {
     "data": {
      "text/plain": [
       "1"
      ]
     },
     "execution_count": 14,
     "metadata": {},
     "output_type": "execute_result"
    }
   ],
   "source": [
    "myDay1 = dt.date(2020,1,1).day\n",
    "myDay1"
   ]
  },
  {
   "cell_type": "markdown",
   "metadata": {},
   "source": [
    "<h5>weekday()</h5>"
   ]
  },
  {
   "cell_type": "code",
   "execution_count": 15,
   "metadata": {},
   "outputs": [
    {
     "data": {
      "text/plain": [
       "2"
      ]
     },
     "execution_count": 15,
     "metadata": {},
     "output_type": "execute_result"
    }
   ],
   "source": [
    "myDay2 = dt.date(2020,1,1).weekday()\n",
    "myDay2"
   ]
  },
  {
   "cell_type": "markdown",
   "metadata": {},
   "source": [
    "<h5>month</h5>"
   ]
  },
  {
   "cell_type": "code",
   "execution_count": 16,
   "metadata": {},
   "outputs": [
    {
     "data": {
      "text/plain": [
       "1"
      ]
     },
     "execution_count": 16,
     "metadata": {},
     "output_type": "execute_result"
    }
   ],
   "source": [
    "myMonth1 = dt.date(2020,1,1).month\n",
    "myMonth1"
   ]
  },
  {
   "cell_type": "markdown",
   "metadata": {},
   "source": [
    "<h5>year</h5>"
   ]
  },
  {
   "cell_type": "code",
   "execution_count": 17,
   "metadata": {},
   "outputs": [
    {
     "data": {
      "text/plain": [
       "2020"
      ]
     },
     "execution_count": 17,
     "metadata": {},
     "output_type": "execute_result"
    }
   ],
   "source": [
    "myYear1 = dt.date(2020,1,1).year\n",
    "myYear1"
   ]
  },
  {
   "cell_type": "markdown",
   "metadata": {},
   "source": [
    "<h5>ISO Formats</h5>"
   ]
  },
  {
   "cell_type": "code",
   "execution_count": 18,
   "metadata": {},
   "outputs": [
    {
     "data": {
      "text/plain": [
       "datetime.date(2011, 11, 4)"
      ]
     },
     "execution_count": 18,
     "metadata": {},
     "output_type": "execute_result"
    }
   ],
   "source": [
    "myDate2 = dt.date.fromisoformat('2011-11-04')\n",
    "myDate2"
   ]
  },
  {
   "cell_type": "code",
   "execution_count": 19,
   "metadata": {},
   "outputs": [
    {
     "data": {
      "text/plain": [
       "datetime.datetime(2011, 11, 4, 0, 5, 23)"
      ]
     },
     "execution_count": 19,
     "metadata": {},
     "output_type": "execute_result"
    }
   ],
   "source": [
    "myDateTime2 = dt.datetime.fromisoformat('2011-11-04T00:05:23')\n",
    "myDateTime2"
   ]
  },
  {
   "cell_type": "markdown",
   "metadata": {},
   "source": [
    "<br><br>\n",
    "<h4 style=\"color:#c4960c\">Statistics</h4>\n",
    "<hr>\n",
    "<p>The Statistics package holds everythin you eed to run data analysis over your datasets:\n",
    "    <li>NormalDist (Normal Distrubtion)</li>\n",
    "    <li>stdev (Standard Distrubtion)</li>\n",
    "    <li>pvariance</li>\n",
    "    <li>median</li>\n",
    "    <li>multimode</li>\n",
    "    <li>...</li>\n",
    "</p>\n",
    "\n",
    "<br>\n",
    "<h4>Importing Dataset</h4>"
   ]
  },
  {
   "cell_type": "code",
   "execution_count": 20,
   "metadata": {},
   "outputs": [
    {
     "data": {
      "text/html": [
       "<div>\n",
       "<style scoped>\n",
       "    .dataframe tbody tr th:only-of-type {\n",
       "        vertical-align: middle;\n",
       "    }\n",
       "\n",
       "    .dataframe tbody tr th {\n",
       "        vertical-align: top;\n",
       "    }\n",
       "\n",
       "    .dataframe thead th {\n",
       "        text-align: right;\n",
       "    }\n",
       "</style>\n",
       "<table border=\"1\" class=\"dataframe\">\n",
       "  <thead>\n",
       "    <tr style=\"text-align: right;\">\n",
       "      <th></th>\n",
       "      <th>country</th>\n",
       "      <th>year</th>\n",
       "      <th>pop</th>\n",
       "      <th>continent</th>\n",
       "      <th>lifeExp</th>\n",
       "      <th>gdpPercap</th>\n",
       "    </tr>\n",
       "  </thead>\n",
       "  <tbody>\n",
       "    <tr>\n",
       "      <th>0</th>\n",
       "      <td>Afghanistan</td>\n",
       "      <td>1952</td>\n",
       "      <td>8425333.0</td>\n",
       "      <td>Asia</td>\n",
       "      <td>28.801</td>\n",
       "      <td>779.445314</td>\n",
       "    </tr>\n",
       "    <tr>\n",
       "      <th>1</th>\n",
       "      <td>Afghanistan</td>\n",
       "      <td>1957</td>\n",
       "      <td>9240934.0</td>\n",
       "      <td>Asia</td>\n",
       "      <td>30.332</td>\n",
       "      <td>820.853030</td>\n",
       "    </tr>\n",
       "    <tr>\n",
       "      <th>2</th>\n",
       "      <td>Afghanistan</td>\n",
       "      <td>1962</td>\n",
       "      <td>10267083.0</td>\n",
       "      <td>Asia</td>\n",
       "      <td>31.997</td>\n",
       "      <td>853.100710</td>\n",
       "    </tr>\n",
       "    <tr>\n",
       "      <th>3</th>\n",
       "      <td>Afghanistan</td>\n",
       "      <td>1967</td>\n",
       "      <td>11537966.0</td>\n",
       "      <td>Asia</td>\n",
       "      <td>34.020</td>\n",
       "      <td>836.197138</td>\n",
       "    </tr>\n",
       "    <tr>\n",
       "      <th>4</th>\n",
       "      <td>Afghanistan</td>\n",
       "      <td>1972</td>\n",
       "      <td>13079460.0</td>\n",
       "      <td>Asia</td>\n",
       "      <td>36.088</td>\n",
       "      <td>739.981106</td>\n",
       "    </tr>\n",
       "  </tbody>\n",
       "</table>\n",
       "</div>"
      ],
      "text/plain": [
       "       country  year         pop continent  lifeExp   gdpPercap\n",
       "0  Afghanistan  1952   8425333.0      Asia   28.801  779.445314\n",
       "1  Afghanistan  1957   9240934.0      Asia   30.332  820.853030\n",
       "2  Afghanistan  1962  10267083.0      Asia   31.997  853.100710\n",
       "3  Afghanistan  1967  11537966.0      Asia   34.020  836.197138\n",
       "4  Afghanistan  1972  13079460.0      Asia   36.088  739.981106"
      ]
     },
     "execution_count": 20,
     "metadata": {},
     "output_type": "execute_result"
    }
   ],
   "source": [
    "import pandas as pd\n",
    "df = pd.read_csv(r'http://bit.ly/2cLzoxH', header=0)\n",
    "df .head()"
   ]
  },
  {
   "cell_type": "markdown",
   "metadata": {},
   "source": [
    "<h5>Different statistical Tests</h5>"
   ]
  },
  {
   "cell_type": "markdown",
   "metadata": {},
   "source": [
    "<h5>NormalDist.from_samples()</h5>"
   ]
  },
  {
   "cell_type": "code",
   "execution_count": 21,
   "metadata": {},
   "outputs": [
    {
     "data": {
      "text/plain": [
       "NormalDist(mu=59.47443936619718, sigma=12.917107415241192)"
      ]
     },
     "execution_count": 21,
     "metadata": {},
     "output_type": "execute_result"
    }
   ],
   "source": [
    "my_stat1 =stats.NormalDist.from_samples(df['lifeExp'])\n",
    "my_stat1"
   ]
  },
  {
   "cell_type": "markdown",
   "metadata": {},
   "source": [
    "<h5>stdev()</h5>"
   ]
  },
  {
   "cell_type": "code",
   "execution_count": 22,
   "metadata": {},
   "outputs": [
    {
     "data": {
      "text/plain": [
       "12.917107415241192"
      ]
     },
     "execution_count": 22,
     "metadata": {},
     "output_type": "execute_result"
    }
   ],
   "source": [
    "my_stat2 =stats.stdev(df['lifeExp'])\n",
    "my_stat2"
   ]
  },
  {
   "cell_type": "markdown",
   "metadata": {},
   "source": [
    "<h5>pvariance()</h5>"
   ]
  },
  {
   "cell_type": "code",
   "execution_count": 23,
   "metadata": {},
   "outputs": [
    {
     "data": {
      "text/plain": [
       "166.75374633370006"
      ]
     },
     "execution_count": 23,
     "metadata": {},
     "output_type": "execute_result"
    }
   ],
   "source": [
    "my_stat3 =stats.pvariance(df['lifeExp'])\n",
    "my_stat3"
   ]
  },
  {
   "cell_type": "markdown",
   "metadata": {},
   "source": [
    "<h5>multimode()</h5>"
   ]
  },
  {
   "cell_type": "code",
   "execution_count": 24,
   "metadata": {},
   "outputs": [
    {
     "data": {
      "text/plain": [
       "[69.39]"
      ]
     },
     "execution_count": 24,
     "metadata": {},
     "output_type": "execute_result"
    }
   ],
   "source": [
    "my_stat4 =stats.multimode(df['lifeExp'])\n",
    "my_stat4"
   ]
  },
  {
   "cell_type": "markdown",
   "metadata": {},
   "source": [
    "<h5>median_low()</h5>"
   ]
  },
  {
   "cell_type": "code",
   "execution_count": 25,
   "metadata": {},
   "outputs": [
    {
     "data": {
      "text/plain": [
       "60.66"
      ]
     },
     "execution_count": 25,
     "metadata": {},
     "output_type": "execute_result"
    }
   ],
   "source": [
    "my_stat5 =stats.median_low(df['lifeExp'])\n",
    "my_stat5"
   ]
  },
  {
   "cell_type": "markdown",
   "metadata": {},
   "source": [
    "<h5>multimode()</h5>"
   ]
  },
  {
   "cell_type": "code",
   "execution_count": 26,
   "metadata": {},
   "outputs": [
    {
     "data": {
      "text/plain": [
       "[69.39]"
      ]
     },
     "execution_count": 26,
     "metadata": {},
     "output_type": "execute_result"
    }
   ],
   "source": [
    "my_stat6 =stats.multimode(df['lifeExp'])\n",
    "my_stat6"
   ]
  },
  {
   "cell_type": "markdown",
   "metadata": {},
   "source": [
    "<h5>median_high()</h5>"
   ]
  },
  {
   "cell_type": "code",
   "execution_count": 27,
   "metadata": {},
   "outputs": [
    {
     "data": {
      "text/plain": [
       "60.765"
      ]
     },
     "execution_count": 27,
     "metadata": {},
     "output_type": "execute_result"
    }
   ],
   "source": [
    "my_stat7 =stats.median_high(df['lifeExp'])\n",
    "my_stat7"
   ]
  },
  {
   "cell_type": "markdown",
   "metadata": {},
   "source": [
    "<h5>harmonic_mean()</h5>"
   ]
  },
  {
   "cell_type": "code",
   "execution_count": 28,
   "metadata": {},
   "outputs": [
    {
     "data": {
      "text/plain": [
       "56.36126067175875"
      ]
     },
     "execution_count": 28,
     "metadata": {},
     "output_type": "execute_result"
    }
   ],
   "source": [
    "my_stat8 =stats.harmonic_mean(df['lifeExp'])\n",
    "my_stat8"
   ]
  },
  {
   "cell_type": "markdown",
   "metadata": {},
   "source": [
    "<h5>geometric_mean()</h5>"
   ]
  },
  {
   "cell_type": "code",
   "execution_count": 29,
   "metadata": {},
   "outputs": [
    {
     "data": {
      "text/plain": [
       "57.96498331944521"
      ]
     },
     "execution_count": 29,
     "metadata": {},
     "output_type": "execute_result"
    }
   ],
   "source": [
    "my_stat9 =stats.geometric_mean(df['lifeExp'])\n",
    "my_stat9"
   ]
  },
  {
   "cell_type": "markdown",
   "metadata": {},
   "source": [
    "<h5>fmean()</h5>"
   ]
  },
  {
   "cell_type": "code",
   "execution_count": 30,
   "metadata": {},
   "outputs": [
    {
     "data": {
      "text/plain": [
       "59.47443936619718"
      ]
     },
     "execution_count": 30,
     "metadata": {},
     "output_type": "execute_result"
    }
   ],
   "source": [
    "my_stat10 =stats.fmean(df['lifeExp'])\n",
    "my_stat10"
   ]
  },
  {
   "cell_type": "markdown",
   "metadata": {},
   "source": [
    "<h5>mean()</h5>"
   ]
  },
  {
   "cell_type": "code",
   "execution_count": 31,
   "metadata": {},
   "outputs": [
    {
     "data": {
      "text/plain": [
       "59.47443936619718"
      ]
     },
     "execution_count": 31,
     "metadata": {},
     "output_type": "execute_result"
    }
   ],
   "source": [
    "my_stat11 =stats.mean(df['lifeExp'])\n",
    "my_stat11"
   ]
  },
  {
   "cell_type": "markdown",
   "metadata": {},
   "source": [
    "<h5>variance()</h5>"
   ]
  },
  {
   "cell_type": "code",
   "execution_count": 32,
   "metadata": {},
   "outputs": [
    {
     "data": {
      "text/plain": [
       "166.851663976879"
      ]
     },
     "execution_count": 32,
     "metadata": {},
     "output_type": "execute_result"
    }
   ],
   "source": [
    "my_stat12 =stats.variance(df['lifeExp'])\n",
    "my_stat12"
   ]
  },
  {
   "cell_type": "markdown",
   "metadata": {},
   "source": [
    "<h5>quantiles()</h5>"
   ]
  },
  {
   "cell_type": "code",
   "execution_count": 33,
   "metadata": {},
   "outputs": [
    {
     "data": {
      "text/plain": [
       "[48.172000000000004, 60.7125, 70.84649999999999]"
      ]
     },
     "execution_count": 33,
     "metadata": {},
     "output_type": "execute_result"
    }
   ],
   "source": [
    "my_stat13 =stats.quantiles(df['lifeExp'])\n",
    "my_stat13"
   ]
  },
  {
   "cell_type": "markdown",
   "metadata": {},
   "source": [
    "<h5>median_grouped()</h5>"
   ]
  },
  {
   "cell_type": "code",
   "execution_count": 34,
   "metadata": {},
   "outputs": [
    {
     "data": {
      "text/plain": [
       "60.265"
      ]
     },
     "execution_count": 34,
     "metadata": {},
     "output_type": "execute_result"
    }
   ],
   "source": [
    "my_stat14 =stats.median_grouped(df['lifeExp'])\n",
    "my_stat14"
   ]
  },
  {
   "cell_type": "markdown",
   "metadata": {},
   "source": [
    "<br><br>\n",
    "<h4 style=\"color:#c4960c\">Function Practice</h4>\n",
    "<hr>\n",
    "<h5>Excel date (stored as a string) to datetime.date</h5>"
   ]
  },
  {
   "cell_type": "code",
   "execution_count": 269,
   "metadata": {},
   "outputs": [],
   "source": [
    "def str_to_xls_dte(x, opt=1):\n",
    "    \"\"\"\n",
    "    This function converts the Australian date format commonly used in \n",
    "    Microsoft Excel into datetime.date format and data type.\n",
    "    \n",
    "    Supports the following formats:\n",
    "    opt 1:  d/m/yyyy or dd/mm/yyyy (default)\n",
    "    opt 2:  d/m/yy   or d/m/yy\n",
    "    \n",
    "    OPTIONAL SECOND ARGUMENT\n",
    "    in:  date = \"01/02/2002\"\n",
    "    in:  print(str_to_els_dte(date))\n",
    "    out: 2002-02-01\n",
    "    \n",
    "    SECOND ARGUMNT PROVIDED\n",
    "    OPTION 1\n",
    "    in:  date = \"01/02/2002\"\n",
    "    in:  print(str_to_xls_dte(date,1))\n",
    "    out: 2002-02-01\n",
    "    \n",
    "    OPTION 2\n",
    "    in:  date = \"01/02/02\"\n",
    "    in:  print(str_to_xls_dte(date,2))\n",
    "    out: 2002-02-01\n",
    "    \n",
    "    RETURN CLASS\n",
    "    <class 'datetime.date'>\n",
    "    format individual: 2002-02-01\n",
    "    format list:       datetime.date(2020, 2, 1)\n",
    "    \n",
    "    REQUIREMENTS\n",
    "    Packages:\n",
    "        datetime\n",
    "    \"\"\"\n",
    "    \n",
    "    try:\n",
    "        import datetime\n",
    "        if opt == 1:\n",
    "            lst = x.split(\"/\")\n",
    "            d = int(lst[0])\n",
    "            m = int(lst[1])\n",
    "            y = int(lst[2])\n",
    "            return datetime.date(y,m,d)\n",
    "\n",
    "        if opt == 2:\n",
    "            lst = x.split(\"/\")\n",
    "            d = int(lst[0])\n",
    "            m = int(lst[1])\n",
    "            y = int(str(20) + lst[2])\n",
    "            return datetime.date(y,m,d)\n",
    "    except ValueError as err:\n",
    "        raise\n",
    "            "
   ]
  },
  {
   "cell_type": "code",
   "execution_count": 270,
   "metadata": {},
   "outputs": [
    {
     "name": "stdout",
     "output_type": "stream",
     "text": [
      "Help on function str_to_xls_dte in module __main__:\n",
      "\n",
      "str_to_xls_dte(x, opt=1)\n",
      "    This function converts the Australian date format commonly used in \n",
      "    Microsoft Excel into datetime.date format and data type.\n",
      "    \n",
      "    Supports the following formats:\n",
      "    opt 1:  d/m/yyyy or dd/mm/yyyy (default)\n",
      "    opt 2:  d/m/yy   or d/m/yy\n",
      "    \n",
      "    OPTIONAL SECOND ARGUMENT\n",
      "    in:  date = \"01/02/2002\"\n",
      "    in:  print(str_to_els_dte(date))\n",
      "    out: 2002-02-01\n",
      "    \n",
      "    SECOND ARGUMNT PROVIDED\n",
      "    OPTION 1\n",
      "    in:  date = \"01/02/2002\"\n",
      "    in:  print(str_to_xls_dte(date,1))\n",
      "    out: 2002-02-01\n",
      "    \n",
      "    OPTION 2\n",
      "    in:  date = \"01/02/02\"\n",
      "    in:  print(str_to_xls_dte(date,2))\n",
      "    out: 2002-02-01\n",
      "    \n",
      "    RETURN CLASS\n",
      "    <class 'datetime.date'>\n",
      "    format: 2002-02-01\n",
      "    \n",
      "    REQUIREMENTS\n",
      "    Packages:\n",
      "        datetime\n",
      "\n"
     ]
    }
   ],
   "source": [
    "help(str_to_xls_dte)"
   ]
  },
  {
   "cell_type": "code",
   "execution_count": 260,
   "metadata": {},
   "outputs": [
    {
     "name": "stdout",
     "output_type": "stream",
     "text": [
      "2002-02-01\n",
      "2002-02-01\n",
      "<class 'datetime.date'>\n"
     ]
    }
   ],
   "source": [
    "myXlsDate1 = \"01/02/2002\"\n",
    "myXlsDate2 = \"01/02/02\"\n",
    "print(str_to_xls_dte(myXlsDate1))\n",
    "print(str_to_xls_dte(myXlsDate1,1))\n",
    "print(type(str_to_xls_dte(myXlsDate2,2)))"
   ]
  },
  {
   "cell_type": "code",
   "execution_count": 273,
   "metadata": {},
   "outputs": [
    {
     "data": {
      "text/plain": [
       "datetime.date(2020, 2, 1)"
      ]
     },
     "execution_count": 273,
     "metadata": {},
     "output_type": "execute_result"
    }
   ],
   "source": [
    "lstXlsDates1 = ['1/2/20', '2/2/20', '3/2/20', '4/2/20']\n",
    "\n",
    "lstXlsDates1 = list(\n",
    "    map(\n",
    "        lambda x: str_to_xls_dte(x,2),\n",
    "        lstXlsDates1\n",
    "    )\n",
    ")\n",
    "\n",
    "lstXlsDates1[0]"
   ]
  },
  {
   "cell_type": "code",
   "execution_count": null,
   "metadata": {},
   "outputs": [],
   "source": []
  },
  {
   "cell_type": "code",
   "execution_count": null,
   "metadata": {},
   "outputs": [],
   "source": []
  },
  {
   "cell_type": "code",
   "execution_count": null,
   "metadata": {},
   "outputs": [],
   "source": []
  }
 ],
 "metadata": {
  "kernelspec": {
   "display_name": "myenv",
   "language": "python",
   "name": "myenv"
  },
  "language_info": {
   "codemirror_mode": {
    "name": "ipython",
    "version": 3
   },
   "file_extension": ".py",
   "mimetype": "text/x-python",
   "name": "python",
   "nbconvert_exporter": "python",
   "pygments_lexer": "ipython3",
   "version": "3.8.2"
  }
 },
 "nbformat": 4,
 "nbformat_minor": 4
}
