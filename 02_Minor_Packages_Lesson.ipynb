{
 "cells": [
  {
   "cell_type": "markdown",
   "metadata": {},
   "source": [
    "<h1 style=\"color:#c4960c\">Minor Packages</h1>\n",
    "<h3>NumPy, DateTime and Statistics</h3>\n",
    "<hr>"
   ]
  },
  {
   "cell_type": "markdown",
   "metadata": {},
   "source": [
    "<h4 style=\"color:#c4960c\">Imports</h4>"
   ]
  },
  {
   "cell_type": "code",
   "execution_count": 3,
   "metadata": {},
   "outputs": [],
   "source": [
    "import numpy as np\n",
    "import math\n",
    "import functools\n",
    "import statistics as stats\n",
    "import datetime as dt"
   ]
  },
  {
   "cell_type": "markdown",
   "metadata": {},
   "source": [
    "<h4 style=\"color:#c4960c\">Numpy</h4>\n",
    "<hr>\n",
    "<p>The Math Package has all the basic matimatical functions that you would expect such as:\n",
    "    <li>tan</li>\n",
    "    <li>cos</li>\n",
    "    <li>sin</li>\n",
    "    <li>...</li> \n",
    "</p>"
   ]
  },
  {
   "cell_type": "code",
   "execution_count": 4,
   "metadata": {},
   "outputs": [
    {
     "data": {
      "text/plain": [
       "-0.6358599286615808"
      ]
     },
     "execution_count": 4,
     "metadata": {},
     "output_type": "execute_result"
    }
   ],
   "source": [
    "var1 = math.tan(12)\n",
    "var1"
   ]
  },
  {
   "cell_type": "code",
   "execution_count": 5,
   "metadata": {},
   "outputs": [
    {
     "data": {
      "text/plain": [
       "0.8438539587324921"
      ]
     },
     "execution_count": 5,
     "metadata": {},
     "output_type": "execute_result"
    }
   ],
   "source": [
    "var2 = math.cos(12)\n",
    "var2"
   ]
  },
  {
   "cell_type": "code",
   "execution_count": 6,
   "metadata": {},
   "outputs": [
    {
     "data": {
      "text/plain": [
       "-0.5365729180004349"
      ]
     },
     "execution_count": 6,
     "metadata": {},
     "output_type": "execute_result"
    }
   ],
   "source": [
    "var3 = math.sin(12)\n",
    "var3"
   ]
  },
  {
   "cell_type": "markdown",
   "metadata": {},
   "source": [
    "<br><br>\n",
    "<h4 style=\"color:#c4960c\">Numpy</h4>\n",
    "<hr>\n",
    "<p>Numpy has advanced mathamatics that expands upon the math package including but far from limited to:\n",
    "    <li>sum</li>\n",
    "    <li>min</li>\n",
    "    <li>max</li>\n",
    "    <li>count_nonzero</li>\n",
    "    <li>mean</li>\n",
    "    <li>...</li>\n",
    "</p>"
   ]
  },
  {
   "cell_type": "markdown",
   "metadata": {},
   "source": [
    "<h5>List of Random Numbers</h5>"
   ]
  },
  {
   "cell_type": "code",
   "execution_count": 130,
   "metadata": {},
   "outputs": [
    {
     "name": "stdout",
     "output_type": "stream",
     "text": [
      "[66, 51, 57, 37, 18, 86, 84, 32, 17, 30, 19, 38, 62, 51, 90, 18, 53, 11, 63, 25, 24, 43, 19, 90, 24, 43, 98, 31, 77, 41, 35, 86, 92, 79, 52, 29, 18, 85, 99, 54, 74, 47, 89, 40, 92, 49, 44, 48, 69, 63, 62, 33, 11, 54, 54, 91, 80]\n",
      "[55, 49, 23, 13, 31, 91, 61, 67, 13, 16, 95, 60, 14, 76, 33, 72, 72, 85, 18, 15, 37, 65, 53, 40, 81, 36, 81, 44, 52, 19, 20, 47, 70, 82, 21, 75, 62, 90, 85, 69, 31, 10, 81, 90, 13, 26, 55, 81, 66, 51, 25, 74, 51, 54, 35, 17, 94]\n"
     ]
    }
   ],
   "source": [
    "import random\n",
    "\n",
    "my_list1 = []\n",
    "myRand1 = random.randint(10,99)\n",
    "for x in range(myRand1):\n",
    "    my_list1.append(random.randint(10,99))\n",
    "    \n",
    "my_list2 = []\n",
    "for x in range(myRand1):\n",
    "    my_list2.append(random.randint(10,99))\n",
    "    \n",
    "print(my_list1)\n",
    "print(my_list2)"
   ]
  },
  {
   "cell_type": "code",
   "execution_count": 124,
   "metadata": {},
   "outputs": [
    {
     "name": "stdout",
     "output_type": "stream",
     "text": [
      "{'Sum': 3189, 'Min': 11, 'Max': 98, 'Count': 55}\n",
      "3189\n",
      "11\n",
      "98\n",
      "55\n"
     ]
    }
   ],
   "source": [
    "my_dict1 = {\n",
    "    \"Sum\": np.sum(my_list1),\n",
    "    \"Min\": np.min(my_list1),\n",
    "    \"Max\": np.max(my_list1),\n",
    "    \"Count\": np.count_nonzero(my_list1)\n",
    "}\n",
    "print(my_dict1)\n",
    "print(my_dict1['Sum'])\n",
    "print(my_dict1['Min'])\n",
    "print(my_dict1['Max'])\n",
    "print(my_dict1['Count'])"
   ]
  },
  {
   "cell_type": "markdown",
   "metadata": {},
   "source": [
    "<h5>np.dstack()</h5>"
   ]
  },
  {
   "cell_type": "code",
   "execution_count": 114,
   "metadata": {},
   "outputs": [
    {
     "data": {
      "text/plain": [
       "array([[[63, 92],\n",
       "        [58, 84],\n",
       "        [67, 39],\n",
       "        [25, 40],\n",
       "        [74, 61]]])"
      ]
     },
     "execution_count": 114,
     "metadata": {},
     "output_type": "execute_result"
    }
   ],
   "source": [
    "myarray1 = np.dstack((my_list1, my_list2))\n",
    "myarray1[:,0:5]"
   ]
  },
  {
   "cell_type": "markdown",
   "metadata": {},
   "source": [
    "<h5>np.hstack()</h5>"
   ]
  },
  {
   "cell_type": "code",
   "execution_count": 115,
   "metadata": {},
   "outputs": [
    {
     "data": {
      "text/plain": [
       "array([58, 67, 25, 74, 71, 66, 75, 92, 91])"
      ]
     },
     "execution_count": 115,
     "metadata": {},
     "output_type": "execute_result"
    }
   ],
   "source": [
    "myarray2 = np.hstack((my_list1, my_list2))\n",
    "myarray2[1:10]"
   ]
  },
  {
   "cell_type": "markdown",
   "metadata": {},
   "source": [
    "<h5>np.vstack()</h5>"
   ]
  },
  {
   "cell_type": "code",
   "execution_count": 116,
   "metadata": {},
   "outputs": [
    {
     "data": {
      "text/plain": [
       "array([[63, 58, 67, 25, 74],\n",
       "       [92, 84, 39, 40, 61]])"
      ]
     },
     "execution_count": 116,
     "metadata": {},
     "output_type": "execute_result"
    }
   ],
   "source": [
    "myarray3 = np.vstack((my_list1, my_list2))\n",
    "myarray3[:,0:5]"
   ]
  },
  {
   "cell_type": "markdown",
   "metadata": {},
   "source": [
    "<h5>np.concatenate()</h5>"
   ]
  },
  {
   "cell_type": "code",
   "execution_count": 117,
   "metadata": {},
   "outputs": [
    {
     "data": {
      "text/plain": [
       "array([63, 58, 67, 25, 74])"
      ]
     },
     "execution_count": 117,
     "metadata": {},
     "output_type": "execute_result"
    }
   ],
   "source": [
    "myarray4 = np.concatenate((my_list1, my_list2))\n",
    "myarray4[0:5]"
   ]
  },
  {
   "cell_type": "markdown",
   "metadata": {},
   "source": [
    "<h5>np.stack()</h5>"
   ]
  },
  {
   "cell_type": "code",
   "execution_count": 118,
   "metadata": {},
   "outputs": [
    {
     "data": {
      "text/plain": [
       "array([[63, 58, 67, 25, 74],\n",
       "       [92, 84, 39, 40, 61]])"
      ]
     },
     "execution_count": 118,
     "metadata": {},
     "output_type": "execute_result"
    }
   ],
   "source": [
    "myarray5 = np.stack((my_list1, my_list2))\n",
    "myarray5[:,0:5]"
   ]
  },
  {
   "cell_type": "markdown",
   "metadata": {},
   "source": [
    "<br><br>\n",
    "<h4 style=\"color:#c4960c\">DateTime</h4>\n",
    "<hr>\n",
    "<p>DateTime has most things you will ever need relating to dates and time:\n",
    "    <li>Date</li>\n",
    "    <li>DateTime</li>\n",
    "    <li>Now</li>\n",
    "    <li>Weekday</li>\n",
    "    <li>Day</li>\n",
    "    <li>Month</li>\n",
    "    <li>Year</li>\n",
    "    <li>...</li>\n",
    "</p>"
   ]
  },
  {
   "cell_type": "markdown",
   "metadata": {},
   "source": [
    "<h5>now()</h5>"
   ]
  },
  {
   "cell_type": "code",
   "execution_count": 14,
   "metadata": {},
   "outputs": [
    {
     "data": {
      "text/plain": [
       "datetime.datetime(2020, 5, 7, 21, 12, 12, 20316)"
      ]
     },
     "execution_count": 14,
     "metadata": {},
     "output_type": "execute_result"
    }
   ],
   "source": [
    "myDateTime1 = dt.datetime.now(tz=None)\n",
    "myDateTime1"
   ]
  },
  {
   "cell_type": "markdown",
   "metadata": {},
   "source": [
    "<h5>today()</h5>"
   ]
  },
  {
   "cell_type": "code",
   "execution_count": 15,
   "metadata": {},
   "outputs": [
    {
     "data": {
      "text/plain": [
       "datetime.date(2020, 5, 7)"
      ]
     },
     "execution_count": 15,
     "metadata": {},
     "output_type": "execute_result"
    }
   ],
   "source": [
    "myDate1 = dt.date.today()\n",
    "myDate1"
   ]
  },
  {
   "cell_type": "markdown",
   "metadata": {},
   "source": [
    "<h5>day</h5>"
   ]
  },
  {
   "cell_type": "code",
   "execution_count": 16,
   "metadata": {},
   "outputs": [
    {
     "data": {
      "text/plain": [
       "1"
      ]
     },
     "execution_count": 16,
     "metadata": {},
     "output_type": "execute_result"
    }
   ],
   "source": [
    "myDay1 = dt.date(2020,1,1).day\n",
    "myDay1"
   ]
  },
  {
   "cell_type": "markdown",
   "metadata": {},
   "source": [
    "<h5>weekday()</h5>"
   ]
  },
  {
   "cell_type": "code",
   "execution_count": 17,
   "metadata": {},
   "outputs": [
    {
     "data": {
      "text/plain": [
       "2"
      ]
     },
     "execution_count": 17,
     "metadata": {},
     "output_type": "execute_result"
    }
   ],
   "source": [
    "myDay2 = dt.date(2020,1,1).weekday()\n",
    "myDay2"
   ]
  },
  {
   "cell_type": "markdown",
   "metadata": {},
   "source": [
    "<h5>month</h5>"
   ]
  },
  {
   "cell_type": "code",
   "execution_count": 18,
   "metadata": {},
   "outputs": [
    {
     "data": {
      "text/plain": [
       "1"
      ]
     },
     "execution_count": 18,
     "metadata": {},
     "output_type": "execute_result"
    }
   ],
   "source": [
    "myMonth1 = dt.date(2020,1,1).month\n",
    "myMonth1"
   ]
  },
  {
   "cell_type": "markdown",
   "metadata": {},
   "source": [
    "<h5>year</h5>"
   ]
  },
  {
   "cell_type": "code",
   "execution_count": 19,
   "metadata": {},
   "outputs": [
    {
     "data": {
      "text/plain": [
       "2020"
      ]
     },
     "execution_count": 19,
     "metadata": {},
     "output_type": "execute_result"
    }
   ],
   "source": [
    "myYear1 = dt.date(2020,1,1).year\n",
    "myYear1"
   ]
  },
  {
   "cell_type": "markdown",
   "metadata": {},
   "source": [
    "<h5>ISO Formats</h5>"
   ]
  },
  {
   "cell_type": "code",
   "execution_count": 20,
   "metadata": {},
   "outputs": [
    {
     "data": {
      "text/plain": [
       "datetime.date(2011, 11, 4)"
      ]
     },
     "execution_count": 20,
     "metadata": {},
     "output_type": "execute_result"
    }
   ],
   "source": [
    "myDate2 = dt.date.fromisoformat('2011-11-04')\n",
    "myDate2"
   ]
  },
  {
   "cell_type": "code",
   "execution_count": 21,
   "metadata": {},
   "outputs": [
    {
     "data": {
      "text/plain": [
       "datetime.datetime(2011, 11, 4, 0, 5, 23)"
      ]
     },
     "execution_count": 21,
     "metadata": {},
     "output_type": "execute_result"
    }
   ],
   "source": [
    "myDateTime2 = dt.datetime.fromisoformat('2011-11-04T00:05:23')\n",
    "myDateTime2"
   ]
  },
  {
   "cell_type": "markdown",
   "metadata": {},
   "source": [
    "<br><br>\n",
    "<h4 style=\"color:#c4960c\">Statistics</h4>\n",
    "<hr>\n",
    "<p>The Statistics package holds everythin you eed to run data analysis over your datasets:\n",
    "    <li>NormalDist (Normal Distrubtion)</li>\n",
    "    <li>stdev (Standard Distrubtion)</li>\n",
    "    <li>pvariance</li>\n",
    "    <li>median</li>\n",
    "    <li>multimode</li>\n",
    "    <li>...</li>\n",
    "</p>\n",
    "\n",
    "<br>\n",
    "<h4>Importing Dataset</h4>"
   ]
  },
  {
   "cell_type": "code",
   "execution_count": 22,
   "metadata": {},
   "outputs": [
    {
     "data": {
      "text/html": [
       "<div>\n",
       "<style scoped>\n",
       "    .dataframe tbody tr th:only-of-type {\n",
       "        vertical-align: middle;\n",
       "    }\n",
       "\n",
       "    .dataframe tbody tr th {\n",
       "        vertical-align: top;\n",
       "    }\n",
       "\n",
       "    .dataframe thead th {\n",
       "        text-align: right;\n",
       "    }\n",
       "</style>\n",
       "<table border=\"1\" class=\"dataframe\">\n",
       "  <thead>\n",
       "    <tr style=\"text-align: right;\">\n",
       "      <th></th>\n",
       "      <th>country</th>\n",
       "      <th>year</th>\n",
       "      <th>pop</th>\n",
       "      <th>continent</th>\n",
       "      <th>lifeExp</th>\n",
       "      <th>gdpPercap</th>\n",
       "    </tr>\n",
       "  </thead>\n",
       "  <tbody>\n",
       "    <tr>\n",
       "      <th>0</th>\n",
       "      <td>Afghanistan</td>\n",
       "      <td>1952</td>\n",
       "      <td>8425333.0</td>\n",
       "      <td>Asia</td>\n",
       "      <td>28.801</td>\n",
       "      <td>779.445314</td>\n",
       "    </tr>\n",
       "    <tr>\n",
       "      <th>1</th>\n",
       "      <td>Afghanistan</td>\n",
       "      <td>1957</td>\n",
       "      <td>9240934.0</td>\n",
       "      <td>Asia</td>\n",
       "      <td>30.332</td>\n",
       "      <td>820.853030</td>\n",
       "    </tr>\n",
       "    <tr>\n",
       "      <th>2</th>\n",
       "      <td>Afghanistan</td>\n",
       "      <td>1962</td>\n",
       "      <td>10267083.0</td>\n",
       "      <td>Asia</td>\n",
       "      <td>31.997</td>\n",
       "      <td>853.100710</td>\n",
       "    </tr>\n",
       "    <tr>\n",
       "      <th>3</th>\n",
       "      <td>Afghanistan</td>\n",
       "      <td>1967</td>\n",
       "      <td>11537966.0</td>\n",
       "      <td>Asia</td>\n",
       "      <td>34.020</td>\n",
       "      <td>836.197138</td>\n",
       "    </tr>\n",
       "    <tr>\n",
       "      <th>4</th>\n",
       "      <td>Afghanistan</td>\n",
       "      <td>1972</td>\n",
       "      <td>13079460.0</td>\n",
       "      <td>Asia</td>\n",
       "      <td>36.088</td>\n",
       "      <td>739.981106</td>\n",
       "    </tr>\n",
       "  </tbody>\n",
       "</table>\n",
       "</div>"
      ],
      "text/plain": [
       "       country  year         pop continent  lifeExp   gdpPercap\n",
       "0  Afghanistan  1952   8425333.0      Asia   28.801  779.445314\n",
       "1  Afghanistan  1957   9240934.0      Asia   30.332  820.853030\n",
       "2  Afghanistan  1962  10267083.0      Asia   31.997  853.100710\n",
       "3  Afghanistan  1967  11537966.0      Asia   34.020  836.197138\n",
       "4  Afghanistan  1972  13079460.0      Asia   36.088  739.981106"
      ]
     },
     "execution_count": 22,
     "metadata": {},
     "output_type": "execute_result"
    }
   ],
   "source": [
    "import pandas as pd\n",
    "df = pd.read_csv(r'http://bit.ly/2cLzoxH', header=0)\n",
    "df .head()"
   ]
  },
  {
   "cell_type": "markdown",
   "metadata": {},
   "source": [
    "<h5>Different statistical Tests</h5>"
   ]
  },
  {
   "cell_type": "markdown",
   "metadata": {},
   "source": [
    "<h5>NormalDist.from_samples()</h5>"
   ]
  },
  {
   "cell_type": "code",
   "execution_count": 23,
   "metadata": {},
   "outputs": [
    {
     "data": {
      "text/plain": [
       "NormalDist(mu=59.47443936619718, sigma=12.917107415241192)"
      ]
     },
     "execution_count": 23,
     "metadata": {},
     "output_type": "execute_result"
    }
   ],
   "source": [
    "my_stat1 =stats.NormalDist.from_samples(df['lifeExp'])\n",
    "my_stat1"
   ]
  },
  {
   "cell_type": "markdown",
   "metadata": {},
   "source": [
    "<h5>stdev()</h5>"
   ]
  },
  {
   "cell_type": "code",
   "execution_count": 24,
   "metadata": {},
   "outputs": [
    {
     "data": {
      "text/plain": [
       "12.917107415241192"
      ]
     },
     "execution_count": 24,
     "metadata": {},
     "output_type": "execute_result"
    }
   ],
   "source": [
    "my_stat2 =stats.stdev(df['lifeExp'])\n",
    "my_stat2"
   ]
  },
  {
   "cell_type": "markdown",
   "metadata": {},
   "source": [
    "<h5>pvariance()</h5>"
   ]
  },
  {
   "cell_type": "code",
   "execution_count": 25,
   "metadata": {},
   "outputs": [
    {
     "data": {
      "text/plain": [
       "166.75374633370006"
      ]
     },
     "execution_count": 25,
     "metadata": {},
     "output_type": "execute_result"
    }
   ],
   "source": [
    "my_stat3 =stats.pvariance(df['lifeExp'])\n",
    "my_stat3"
   ]
  },
  {
   "cell_type": "markdown",
   "metadata": {},
   "source": [
    "<h5>multimode()</h5>"
   ]
  },
  {
   "cell_type": "code",
   "execution_count": 26,
   "metadata": {},
   "outputs": [
    {
     "data": {
      "text/plain": [
       "[69.39]"
      ]
     },
     "execution_count": 26,
     "metadata": {},
     "output_type": "execute_result"
    }
   ],
   "source": [
    "my_stat4 =stats.multimode(df['lifeExp'])\n",
    "my_stat4"
   ]
  },
  {
   "cell_type": "markdown",
   "metadata": {},
   "source": [
    "<h5>median_low()</h5>"
   ]
  },
  {
   "cell_type": "code",
   "execution_count": 27,
   "metadata": {},
   "outputs": [
    {
     "data": {
      "text/plain": [
       "60.66"
      ]
     },
     "execution_count": 27,
     "metadata": {},
     "output_type": "execute_result"
    }
   ],
   "source": [
    "my_stat5 =stats.median_low(df['lifeExp'])\n",
    "my_stat5"
   ]
  },
  {
   "cell_type": "markdown",
   "metadata": {},
   "source": [
    "<h5>multimode()</h5>"
   ]
  },
  {
   "cell_type": "code",
   "execution_count": 28,
   "metadata": {},
   "outputs": [
    {
     "data": {
      "text/plain": [
       "[69.39]"
      ]
     },
     "execution_count": 28,
     "metadata": {},
     "output_type": "execute_result"
    }
   ],
   "source": [
    "my_stat6 =stats.multimode(df['lifeExp'])\n",
    "my_stat6"
   ]
  },
  {
   "cell_type": "markdown",
   "metadata": {},
   "source": [
    "<h5>median_high()</h5>"
   ]
  },
  {
   "cell_type": "code",
   "execution_count": 29,
   "metadata": {},
   "outputs": [
    {
     "data": {
      "text/plain": [
       "60.765"
      ]
     },
     "execution_count": 29,
     "metadata": {},
     "output_type": "execute_result"
    }
   ],
   "source": [
    "my_stat7 =stats.median_high(df['lifeExp'])\n",
    "my_stat7"
   ]
  },
  {
   "cell_type": "markdown",
   "metadata": {},
   "source": [
    "<h5>harmonic_mean()</h5>"
   ]
  },
  {
   "cell_type": "code",
   "execution_count": 30,
   "metadata": {},
   "outputs": [
    {
     "data": {
      "text/plain": [
       "56.36126067175875"
      ]
     },
     "execution_count": 30,
     "metadata": {},
     "output_type": "execute_result"
    }
   ],
   "source": [
    "my_stat8 =stats.harmonic_mean(df['lifeExp'])\n",
    "my_stat8"
   ]
  },
  {
   "cell_type": "markdown",
   "metadata": {},
   "source": [
    "<h5>geometric_mean()</h5>"
   ]
  },
  {
   "cell_type": "code",
   "execution_count": 31,
   "metadata": {},
   "outputs": [
    {
     "data": {
      "text/plain": [
       "57.96498331944521"
      ]
     },
     "execution_count": 31,
     "metadata": {},
     "output_type": "execute_result"
    }
   ],
   "source": [
    "my_stat9 =stats.geometric_mean(df['lifeExp'])\n",
    "my_stat9"
   ]
  },
  {
   "cell_type": "markdown",
   "metadata": {},
   "source": [
    "<h5>fmean()</h5>"
   ]
  },
  {
   "cell_type": "code",
   "execution_count": 32,
   "metadata": {},
   "outputs": [
    {
     "data": {
      "text/plain": [
       "59.47443936619718"
      ]
     },
     "execution_count": 32,
     "metadata": {},
     "output_type": "execute_result"
    }
   ],
   "source": [
    "my_stat10 =stats.fmean(df['lifeExp'])\n",
    "my_stat10"
   ]
  },
  {
   "cell_type": "markdown",
   "metadata": {},
   "source": [
    "<h5>mean()</h5>"
   ]
  },
  {
   "cell_type": "code",
   "execution_count": 33,
   "metadata": {},
   "outputs": [
    {
     "data": {
      "text/plain": [
       "59.47443936619718"
      ]
     },
     "execution_count": 33,
     "metadata": {},
     "output_type": "execute_result"
    }
   ],
   "source": [
    "my_stat11 =stats.mean(df['lifeExp'])\n",
    "my_stat11"
   ]
  },
  {
   "cell_type": "markdown",
   "metadata": {},
   "source": [
    "<h5>variance()</h5>"
   ]
  },
  {
   "cell_type": "code",
   "execution_count": 34,
   "metadata": {},
   "outputs": [
    {
     "data": {
      "text/plain": [
       "166.851663976879"
      ]
     },
     "execution_count": 34,
     "metadata": {},
     "output_type": "execute_result"
    }
   ],
   "source": [
    "my_stat12 =stats.variance(df['lifeExp'])\n",
    "my_stat12"
   ]
  },
  {
   "cell_type": "markdown",
   "metadata": {},
   "source": [
    "<h5>quantiles()</h5>"
   ]
  },
  {
   "cell_type": "code",
   "execution_count": 35,
   "metadata": {},
   "outputs": [
    {
     "data": {
      "text/plain": [
       "[48.172000000000004, 60.7125, 70.84649999999999]"
      ]
     },
     "execution_count": 35,
     "metadata": {},
     "output_type": "execute_result"
    }
   ],
   "source": [
    "my_stat13 =stats.quantiles(df['lifeExp'])\n",
    "my_stat13"
   ]
  },
  {
   "cell_type": "markdown",
   "metadata": {},
   "source": [
    "<h5>median_grouped()</h5>"
   ]
  },
  {
   "cell_type": "code",
   "execution_count": 36,
   "metadata": {},
   "outputs": [
    {
     "data": {
      "text/plain": [
       "60.265"
      ]
     },
     "execution_count": 36,
     "metadata": {},
     "output_type": "execute_result"
    }
   ],
   "source": [
    "my_stat14 =stats.median_grouped(df['lifeExp'])\n",
    "my_stat14"
   ]
  },
  {
   "cell_type": "markdown",
   "metadata": {},
   "source": [
    "<h3>Practice</h3>\n",
    "<h4>numpy</h4>"
   ]
  },
  {
   "cell_type": "code",
   "execution_count": 37,
   "metadata": {},
   "outputs": [
    {
     "data": {
      "text/html": [
       "<div>\n",
       "<style scoped>\n",
       "    .dataframe tbody tr th:only-of-type {\n",
       "        vertical-align: middle;\n",
       "    }\n",
       "\n",
       "    .dataframe tbody tr th {\n",
       "        vertical-align: top;\n",
       "    }\n",
       "\n",
       "    .dataframe thead th {\n",
       "        text-align: right;\n",
       "    }\n",
       "</style>\n",
       "<table border=\"1\" class=\"dataframe\">\n",
       "  <thead>\n",
       "    <tr style=\"text-align: right;\">\n",
       "      <th></th>\n",
       "      <th>0</th>\n",
       "      <th>1</th>\n",
       "      <th>2</th>\n",
       "      <th>3</th>\n",
       "      <th>4</th>\n",
       "      <th>5</th>\n",
       "      <th>6</th>\n",
       "      <th>7</th>\n",
       "      <th>8</th>\n",
       "    </tr>\n",
       "  </thead>\n",
       "  <tbody>\n",
       "    <tr>\n",
       "      <th>0</th>\n",
       "      <td>369</td>\n",
       "      <td>246</td>\n",
       "      <td>229</td>\n",
       "      <td>743</td>\n",
       "      <td>999</td>\n",
       "      <td>528</td>\n",
       "      <td>993</td>\n",
       "      <td>844</td>\n",
       "      <td>242</td>\n",
       "    </tr>\n",
       "    <tr>\n",
       "      <th>1</th>\n",
       "      <td>995</td>\n",
       "      <td>457</td>\n",
       "      <td>669</td>\n",
       "      <td>322</td>\n",
       "      <td>876</td>\n",
       "      <td>432</td>\n",
       "      <td>681</td>\n",
       "      <td>440</td>\n",
       "      <td>297</td>\n",
       "    </tr>\n",
       "    <tr>\n",
       "      <th>2</th>\n",
       "      <td>460</td>\n",
       "      <td>637</td>\n",
       "      <td>224</td>\n",
       "      <td>497</td>\n",
       "      <td>38</td>\n",
       "      <td>671</td>\n",
       "      <td>757</td>\n",
       "      <td>766</td>\n",
       "      <td>59</td>\n",
       "    </tr>\n",
       "    <tr>\n",
       "      <th>3</th>\n",
       "      <td>815</td>\n",
       "      <td>285</td>\n",
       "      <td>709</td>\n",
       "      <td>501</td>\n",
       "      <td>799</td>\n",
       "      <td>496</td>\n",
       "      <td>476</td>\n",
       "      <td>770</td>\n",
       "      <td>793</td>\n",
       "    </tr>\n",
       "    <tr>\n",
       "      <th>4</th>\n",
       "      <td>872</td>\n",
       "      <td>487</td>\n",
       "      <td>980</td>\n",
       "      <td>258</td>\n",
       "      <td>585</td>\n",
       "      <td>258</td>\n",
       "      <td>511</td>\n",
       "      <td>645</td>\n",
       "      <td>455</td>\n",
       "    </tr>\n",
       "    <tr>\n",
       "      <th>...</th>\n",
       "      <td>...</td>\n",
       "      <td>...</td>\n",
       "      <td>...</td>\n",
       "      <td>...</td>\n",
       "      <td>...</td>\n",
       "      <td>...</td>\n",
       "      <td>...</td>\n",
       "      <td>...</td>\n",
       "      <td>...</td>\n",
       "    </tr>\n",
       "    <tr>\n",
       "      <th>677</th>\n",
       "      <td>909</td>\n",
       "      <td>834</td>\n",
       "      <td>165</td>\n",
       "      <td>413</td>\n",
       "      <td>287</td>\n",
       "      <td>993</td>\n",
       "      <td>521</td>\n",
       "      <td>542</td>\n",
       "      <td>629</td>\n",
       "    </tr>\n",
       "    <tr>\n",
       "      <th>678</th>\n",
       "      <td>848</td>\n",
       "      <td>624</td>\n",
       "      <td>284</td>\n",
       "      <td>289</td>\n",
       "      <td>529</td>\n",
       "      <td>991</td>\n",
       "      <td>413</td>\n",
       "      <td>470</td>\n",
       "      <td>862</td>\n",
       "    </tr>\n",
       "    <tr>\n",
       "      <th>679</th>\n",
       "      <td>542</td>\n",
       "      <td>984</td>\n",
       "      <td>444</td>\n",
       "      <td>300</td>\n",
       "      <td>810</td>\n",
       "      <td>571</td>\n",
       "      <td>839</td>\n",
       "      <td>691</td>\n",
       "      <td>330</td>\n",
       "    </tr>\n",
       "    <tr>\n",
       "      <th>680</th>\n",
       "      <td>350</td>\n",
       "      <td>902</td>\n",
       "      <td>982</td>\n",
       "      <td>465</td>\n",
       "      <td>862</td>\n",
       "      <td>871</td>\n",
       "      <td>31</td>\n",
       "      <td>803</td>\n",
       "      <td>446</td>\n",
       "    </tr>\n",
       "    <tr>\n",
       "      <th>681</th>\n",
       "      <td>219</td>\n",
       "      <td>680</td>\n",
       "      <td>351</td>\n",
       "      <td>375</td>\n",
       "      <td>838</td>\n",
       "      <td>138</td>\n",
       "      <td>606</td>\n",
       "      <td>441</td>\n",
       "      <td>533</td>\n",
       "    </tr>\n",
       "  </tbody>\n",
       "</table>\n",
       "<p>682 rows × 9 columns</p>\n",
       "</div>"
      ],
      "text/plain": [
       "       0    1    2    3    4    5    6    7    8\n",
       "0    369  246  229  743  999  528  993  844  242\n",
       "1    995  457  669  322  876  432  681  440  297\n",
       "2    460  637  224  497   38  671  757  766   59\n",
       "3    815  285  709  501  799  496  476  770  793\n",
       "4    872  487  980  258  585  258  511  645  455\n",
       "..   ...  ...  ...  ...  ...  ...  ...  ...  ...\n",
       "677  909  834  165  413  287  993  521  542  629\n",
       "678  848  624  284  289  529  991  413  470  862\n",
       "679  542  984  444  300  810  571  839  691  330\n",
       "680  350  902  982  465  862  871   31  803  446\n",
       "681  219  680  351  375  838  138  606  441  533\n",
       "\n",
       "[682 rows x 9 columns]"
      ]
     },
     "execution_count": 37,
     "metadata": {},
     "output_type": "execute_result"
    }
   ],
   "source": [
    "list1 = []\n",
    "myRand2 = random.randint(1,1000)\n",
    "for x in range(myRand2):\n",
    "    list1.append(random.randint(1,1000 ))\n",
    "list2 = []\n",
    "for x in range(myRand2):\n",
    "    list2.append(random.randint(1,1000))\n",
    "list3 = []\n",
    "for x in range(myRand2):\n",
    "    list3.append(random.randint(1,1000))\n",
    "list4 = []\n",
    "for x in range(myRand2):\n",
    "    list4.append(random.randint(1,1000))\n",
    "list5 = []\n",
    "for x in range(myRand2):\n",
    "    list5.append(random.randint(1,1000))\n",
    "list6 = []\n",
    "for x in range(myRand2):\n",
    "    list6.append(random.randint(1,1000))\n",
    "list7 = []\n",
    "for x in range(myRand2):\n",
    "    list7.append(random.randint(1,1000))\n",
    "list8 = []\n",
    "for x in range(myRand2):\n",
    "    list8.append(random.randint(1,1000))\n",
    "list9 = []\n",
    "for x in range(myRand2):\n",
    "    list9.append(random.randint(1,1000))\n",
    "dataset = list(zip(list1, list2, list3, list4, list5, list6, list7, list8, list9))\n",
    "pd.DataFrame(dataset)"
   ]
  },
  {
   "cell_type": "code",
   "execution_count": 38,
   "metadata": {},
   "outputs": [
    {
     "data": {
      "text/plain": [
       "1000"
      ]
     },
     "execution_count": 38,
     "metadata": {},
     "output_type": "execute_result"
    }
   ],
   "source": [
    "np.max(dataset)"
   ]
  },
  {
   "cell_type": "code",
   "execution_count": 39,
   "metadata": {},
   "outputs": [
    {
     "data": {
      "text/plain": [
       "3063881"
      ]
     },
     "execution_count": 39,
     "metadata": {},
     "output_type": "execute_result"
    }
   ],
   "source": [
    "np.sum(dataset)"
   ]
  },
  {
   "cell_type": "code",
   "execution_count": 40,
   "metadata": {},
   "outputs": [
    {
     "data": {
      "text/plain": [
       "5193"
      ]
     },
     "execution_count": 40,
     "metadata": {},
     "output_type": "execute_result"
    }
   ],
   "source": [
    "np.sum(dataset[0])"
   ]
  },
  {
   "cell_type": "code",
   "execution_count": 41,
   "metadata": {},
   "outputs": [
    {
     "data": {
      "text/plain": [
       "'less than 10: 46  -  less than 10 & greater than 100: 554  -  less than 100 & greater tha 1000:: 5528  -  greater tha 1000: 10'"
      ]
     },
     "execution_count": 41,
     "metadata": {},
     "output_type": "execute_result"
    }
   ],
   "source": [
    "def bins_dataset(lst):\n",
    "    gl1_10 = 0\n",
    "    gl10_100 = 0\n",
    "    gl100_1000 = 0\n",
    "    gr1000 = 0\n",
    "    \n",
    "    for x in dataset:\n",
    "        for y in x:\n",
    "            if y < 10:\n",
    "                gl1_10 += 1\n",
    "            elif y < 100 and y > 10:\n",
    "                gl10_100 += 1\n",
    "            elif y < 1000 and y > 10:\n",
    "                gl100_1000 += 1\n",
    "            else:\n",
    "                gr1000 += 1\n",
    "        \n",
    "    return(\"less than 10: \" + str(gl1_10) + \n",
    "           \"  -  less than 10 & greater than 100: \" + str(gl10_100) + \n",
    "           \"  -  less than 100 & greater tha 1000:: \" + str(gl100_1000) + \n",
    "           \"  -  greater tha 1000: \" + str(gr1000)\n",
    "          )\n",
    "    \n",
    "    \n",
    "bins_dataset(dataset)"
   ]
  },
  {
   "cell_type": "code",
   "execution_count": null,
   "metadata": {},
   "outputs": [],
   "source": []
  },
  {
   "cell_type": "code",
   "execution_count": null,
   "metadata": {},
   "outputs": [],
   "source": []
  },
  {
   "cell_type": "code",
   "execution_count": null,
   "metadata": {},
   "outputs": [],
   "source": []
  },
  {
   "cell_type": "code",
   "execution_count": null,
   "metadata": {},
   "outputs": [],
   "source": []
  },
  {
   "cell_type": "code",
   "execution_count": null,
   "metadata": {},
   "outputs": [],
   "source": []
  },
  {
   "cell_type": "markdown",
   "metadata": {},
   "source": [
    "<h4>statistics</h4>"
   ]
  },
  {
   "cell_type": "code",
   "execution_count": 42,
   "metadata": {},
   "outputs": [
    {
     "data": {
      "text/plain": [
       "5193.0"
      ]
     },
     "execution_count": 42,
     "metadata": {},
     "output_type": "execute_result"
    }
   ],
   "source": [
    "stats.fsum(dataset[0])"
   ]
  },
  {
   "cell_type": "code",
   "execution_count": 43,
   "metadata": {},
   "outputs": [
    {
     "data": {
      "text/plain": [
       "369"
      ]
     },
     "execution_count": 43,
     "metadata": {},
     "output_type": "execute_result"
    }
   ],
   "source": [
    "stats.mode(dataset[0])"
   ]
  },
  {
   "cell_type": "code",
   "execution_count": null,
   "metadata": {},
   "outputs": [],
   "source": []
  },
  {
   "cell_type": "code",
   "execution_count": null,
   "metadata": {},
   "outputs": [],
   "source": []
  },
  {
   "cell_type": "code",
   "execution_count": null,
   "metadata": {},
   "outputs": [],
   "source": []
  },
  {
   "cell_type": "code",
   "execution_count": null,
   "metadata": {},
   "outputs": [],
   "source": []
  },
  {
   "cell_type": "markdown",
   "metadata": {},
   "source": [
    "<h4>datetime</h4>"
   ]
  },
  {
   "cell_type": "code",
   "execution_count": 44,
   "metadata": {},
   "outputs": [
    {
     "data": {
      "text/plain": [
       "[datetime.date(2020, 1, 2),\n",
       " datetime.date(2020, 1, 3),\n",
       " datetime.date(2020, 1, 4),\n",
       " datetime.date(2020, 1, 5)]"
      ]
     },
     "execution_count": 44,
     "metadata": {},
     "output_type": "execute_result"
    }
   ],
   "source": [
    "dataset2 = [dt.date(2020,1,2), dt.date(2020,1,3),dt.date(2020,1,4),dt.date(2020,1,5)]\n",
    "dataset2"
   ]
  },
  {
   "cell_type": "code",
   "execution_count": 45,
   "metadata": {},
   "outputs": [
    {
     "name": "stdout",
     "output_type": "stream",
     "text": [
      "3\n",
      "4\n",
      "5\n",
      "6\n"
     ]
    }
   ],
   "source": [
    "for x in dataset2:\n",
    "    print(x.weekday())"
   ]
  },
  {
   "cell_type": "code",
   "execution_count": 75,
   "metadata": {},
   "outputs": [],
   "source": [
    "def weekday_name(date):\n",
    "    days = [[0, \"Sunday\"],[2, \"Monday\"],[3, \"Tuesday\"],[4, \"Wednesday\"],[5, \"Thrursday\"],[6, \"Friday\"],[7, \"Saturday\"]]\n",
    "\n",
    "    for y in days:\n",
    "        if date.weekday() == y[0]:\n",
    "            return y[1]"
   ]
  },
  {
   "cell_type": "code",
   "execution_count": 76,
   "metadata": {},
   "outputs": [
    {
     "data": {
      "text/plain": [
       "'Monday'"
      ]
     },
     "execution_count": 76,
     "metadata": {},
     "output_type": "execute_result"
    }
   ],
   "source": [
    "weekday_name(dt.date(2020,1,1))"
   ]
  },
  {
   "cell_type": "code",
   "execution_count": 77,
   "metadata": {},
   "outputs": [
    {
     "name": "stdout",
     "output_type": "stream",
     "text": [
      "['Tuesday', 'Wednesday', 'Thrursday', 'Friday']\n"
     ]
    }
   ],
   "source": [
    "print(\n",
    "    list(\n",
    "        map(\n",
    "        lambda x: weekday_name(x), dataset2\n",
    "        )\n",
    "    )\n",
    ")"
   ]
  },
  {
   "cell_type": "markdown",
   "metadata": {},
   "source": [
    "<br><br>\n",
    "<h1>Chalange</h1>\n",
    "<p>Turn this into a function</p>"
   ]
  },
  {
   "cell_type": "code",
   "execution_count": 88,
   "metadata": {},
   "outputs": [
    {
     "data": {
      "text/plain": [
       "[datetime.date(2019, 10, 1),\n",
       " datetime.date(2019, 10, 2),\n",
       " datetime.date(2019, 10, 3),\n",
       " datetime.date(2019, 10, 4),\n",
       " datetime.date(2019, 10, 5)]"
      ]
     },
     "execution_count": 88,
     "metadata": {},
     "output_type": "execute_result"
    }
   ],
   "source": [
    "sdate = date(2019, 10, 1)   # start date\n",
    "edate = date(2019, 10, 5)   # end datedelta = edate - sdate       # as timedelta\n",
    "\n",
    "dte_lst = []\n",
    "\n",
    "delta = edate - sdate       # as timedelta\n",
    "\n",
    "for i in range(delta.days + 1):\n",
    "    day = sdate + timedelta(days=i)\n",
    "    dte_lst.append(day)\n",
    "dte_lst"
   ]
  },
  {
   "cell_type": "code",
   "execution_count": null,
   "metadata": {},
   "outputs": [],
   "source": []
  },
  {
   "cell_type": "code",
   "execution_count": null,
   "metadata": {},
   "outputs": [],
   "source": []
  },
  {
   "cell_type": "markdown",
   "metadata": {},
   "source": [
    "<h1>Chalange</h1>\n",
    "<p>Create a functio that prints a date in the folowing format:\n",
    "<li>day name dd mmm yy</li>\n",
    " <li>Monday 01 Feb 20</li>\n",
    "    </p>"
   ]
  },
  {
   "cell_type": "code",
   "execution_count": null,
   "metadata": {},
   "outputs": [],
   "source": []
  },
  {
   "cell_type": "code",
   "execution_count": null,
   "metadata": {},
   "outputs": [],
   "source": []
  },
  {
   "cell_type": "markdown",
   "metadata": {},
   "source": [
    "<h1>Chalange</h1>\n",
    "<p>Create a loop to find the mean of each column:\n",
    "    </p>"
   ]
  },
  {
   "cell_type": "code",
   "execution_count": 92,
   "metadata": {},
   "outputs": [
    {
     "data": {
      "text/plain": [
       "[(743, 665, 487),\n",
       " (682, 160, 797),\n",
       " (991, 746, 507),\n",
       " (591, 66, 987),\n",
       " (453, 226, 921),\n",
       " (102, 44, 88),\n",
       " (406, 475, 607),\n",
       " (435, 616, 90),\n",
       " (463, 30, 838),\n",
       " (518, 430, 514)]"
      ]
     },
     "execution_count": 92,
     "metadata": {},
     "output_type": "execute_result"
    }
   ],
   "source": [
    "c_list1 = []\n",
    "myRand2 = random.randint(1,1000)\n",
    "for x in range(10):\n",
    "    c_list1.append(random.randint(1,1000 ))\n",
    "c_list2 = []\n",
    "for x in range(10):\n",
    "    c_list2.append(random.randint(1,1000))\n",
    "c_list3 = []\n",
    "for x in range(10):\n",
    "    c_list3.append(random.randint(1,1000))\n",
    "\n",
    "\n",
    "c_lst = list(zip(c_list1, c_list2, c_list3))\n",
    "c_lst"
   ]
  },
  {
   "cell_type": "code",
   "execution_count": null,
   "metadata": {},
   "outputs": [],
   "source": []
  },
  {
   "cell_type": "code",
   "execution_count": null,
   "metadata": {},
   "outputs": [],
   "source": []
  },
  {
   "cell_type": "code",
   "execution_count": null,
   "metadata": {},
   "outputs": [],
   "source": []
  }
 ],
 "metadata": {
  "kernelspec": {
   "display_name": "myenv",
   "language": "python",
   "name": "myenv"
  },
  "language_info": {
   "codemirror_mode": {
    "name": "ipython",
    "version": 3
   },
   "file_extension": ".py",
   "mimetype": "text/x-python",
   "name": "python",
   "nbconvert_exporter": "python",
   "pygments_lexer": "ipython3",
   "version": "3.8.2"
  }
 },
 "nbformat": 4,
 "nbformat_minor": 4
}
