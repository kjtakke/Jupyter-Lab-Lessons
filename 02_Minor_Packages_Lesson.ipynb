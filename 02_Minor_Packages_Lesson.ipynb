{
 "cells": [
  {
   "cell_type": "markdown",
   "metadata": {},
   "source": [
    "<h1 style=\"color:#c4960c\">Minor Packages and Classes Lesson</h1>\n",
    "<h3>NumPy, DateTime and Statistics</h3>\n",
    "<hr>"
   ]
  },
  {
   "cell_type": "markdown",
   "metadata": {},
   "source": [
    "<h4 style=\"color:#c4960c\">Imports</h4>"
   ]
  },
  {
   "cell_type": "code",
   "execution_count": 964,
   "metadata": {},
   "outputs": [],
   "source": [
    "import numpy as np\n",
    "import math\n",
    "import functools\n",
    "import statistics as stats\n",
    "import datetime as dt"
   ]
  },
  {
   "cell_type": "markdown",
   "metadata": {},
   "source": [
    "<h4 style=\"color:#c4960c\">Numpy</h4>\n",
    "<hr>\n",
    "<p>The Math Package has all the basic matimatical functions that you would expect such as:\n",
    "    <li>tan</li>\n",
    "    <li>cos</li>\n",
    "    <li>sin</li>\n",
    "    <li>...</li> \n",
    "</p>"
   ]
  },
  {
   "cell_type": "code",
   "execution_count": 965,
   "metadata": {},
   "outputs": [
    {
     "data": {
      "text/plain": [
       "-0.6358599286615808"
      ]
     },
     "execution_count": 965,
     "metadata": {},
     "output_type": "execute_result"
    }
   ],
   "source": [
    "var1 = math.tan(12)\n",
    "var1"
   ]
  },
  {
   "cell_type": "code",
   "execution_count": 966,
   "metadata": {},
   "outputs": [
    {
     "data": {
      "text/plain": [
       "0.8438539587324921"
      ]
     },
     "execution_count": 966,
     "metadata": {},
     "output_type": "execute_result"
    }
   ],
   "source": [
    "var2 = math.cos(12)\n",
    "var2"
   ]
  },
  {
   "cell_type": "code",
   "execution_count": 967,
   "metadata": {},
   "outputs": [
    {
     "data": {
      "text/plain": [
       "-0.5365729180004349"
      ]
     },
     "execution_count": 967,
     "metadata": {},
     "output_type": "execute_result"
    }
   ],
   "source": [
    "var3 = math.sin(12)\n",
    "var3"
   ]
  },
  {
   "cell_type": "markdown",
   "metadata": {},
   "source": [
    "<br><br>\n",
    "<h4 style=\"color:#c4960c\">Numpy</h4>\n",
    "<hr>\n",
    "<p>Numpy has advanced mathamatics that expands upon the math package including but far from limited to:\n",
    "    <li>sum</li>\n",
    "    <li>min</li>\n",
    "    <li>max</li>\n",
    "    <li>count_nonzero</li>\n",
    "    <li>mean</li>\n",
    "    <li>...</li>\n",
    "</p>"
   ]
  },
  {
   "cell_type": "markdown",
   "metadata": {},
   "source": [
    "<h5>List of Random Numbers</h5>"
   ]
  },
  {
   "cell_type": "code",
   "execution_count": 968,
   "metadata": {},
   "outputs": [],
   "source": [
    "import random\n",
    "\n",
    "my_list1 = []\n",
    "myRand1 = random.randint(10,99)\n",
    "for x in range(myRand1):\n",
    "    my_list1.append(random.randint(10,99))\n",
    "    \n",
    "my_list2 = []\n",
    "for x in range(myRand1):\n",
    "    my_list1.append(random.randint(10,99))"
   ]
  },
  {
   "cell_type": "code",
   "execution_count": 969,
   "metadata": {},
   "outputs": [
    {
     "data": {
      "text/plain": [
       "{'Sum': 7514, 'Min': 10, 'Max': 99, 'Count': 138}"
      ]
     },
     "execution_count": 969,
     "metadata": {},
     "output_type": "execute_result"
    }
   ],
   "source": [
    "my_dict1 = {\n",
    "    \"Sum\": np.sum(my_list1),\n",
    "    \"Min\": np.min(my_list1),\n",
    "    \"Max\": np.max(my_list1),\n",
    "    \"Count\": np.count_nonzero(my_list1)\n",
    "}\n",
    "my_dict1"
   ]
  },
  {
   "cell_type": "markdown",
   "metadata": {},
   "source": [
    "<h5>np.dstack()</h5>"
   ]
  },
  {
   "cell_type": "code",
   "execution_count": 970,
   "metadata": {},
   "outputs": [
    {
     "data": {
      "text/plain": [
       "array([[[82, 82],\n",
       "        [54, 54],\n",
       "        [74, 74],\n",
       "        [67, 67],\n",
       "        [39, 39]]])"
      ]
     },
     "execution_count": 970,
     "metadata": {},
     "output_type": "execute_result"
    }
   ],
   "source": [
    "myarray1 = np.dstack((my_list1, my_list1))\n",
    "myarray1[:,0:5]"
   ]
  },
  {
   "cell_type": "markdown",
   "metadata": {},
   "source": [
    "<h5>np.hstack()</h5>"
   ]
  },
  {
   "cell_type": "code",
   "execution_count": 971,
   "metadata": {},
   "outputs": [
    {
     "data": {
      "text/plain": [
       "array([54, 74, 67, 39, 87, 66, 68, 12, 26])"
      ]
     },
     "execution_count": 971,
     "metadata": {},
     "output_type": "execute_result"
    }
   ],
   "source": [
    "myarray2 = np.hstack((my_list1, my_list1))\n",
    "myarray2[1:10]"
   ]
  },
  {
   "cell_type": "markdown",
   "metadata": {},
   "source": [
    "<h5>np.vstack()</h5>"
   ]
  },
  {
   "cell_type": "code",
   "execution_count": 972,
   "metadata": {},
   "outputs": [
    {
     "data": {
      "text/plain": [
       "array([[82, 54, 74, 67, 39],\n",
       "       [82, 54, 74, 67, 39]])"
      ]
     },
     "execution_count": 972,
     "metadata": {},
     "output_type": "execute_result"
    }
   ],
   "source": [
    "myarray3 = np.vstack((my_list1, my_list1))\n",
    "myarray3[:,0:5]"
   ]
  },
  {
   "cell_type": "markdown",
   "metadata": {},
   "source": [
    "<h5>np.concatenate()</h5>"
   ]
  },
  {
   "cell_type": "code",
   "execution_count": 973,
   "metadata": {},
   "outputs": [
    {
     "data": {
      "text/plain": [
       "array([82, 54, 74, 67, 39])"
      ]
     },
     "execution_count": 973,
     "metadata": {},
     "output_type": "execute_result"
    }
   ],
   "source": [
    "myarray4 = np.concatenate((my_list1, my_list1))\n",
    "myarray4[0:5]"
   ]
  },
  {
   "cell_type": "markdown",
   "metadata": {},
   "source": [
    "<h5>np.stack()</h5>"
   ]
  },
  {
   "cell_type": "code",
   "execution_count": 974,
   "metadata": {},
   "outputs": [
    {
     "data": {
      "text/plain": [
       "array([[82, 54, 74, 67, 39],\n",
       "       [82, 54, 74, 67, 39]])"
      ]
     },
     "execution_count": 974,
     "metadata": {},
     "output_type": "execute_result"
    }
   ],
   "source": [
    "myarray5 = np.stack((my_list1, my_list1))\n",
    "myarray5[:,0:5]"
   ]
  },
  {
   "cell_type": "markdown",
   "metadata": {},
   "source": [
    "<br><br>\n",
    "<h4 style=\"color:#c4960c\">DateTime</h4>\n",
    "<hr>\n",
    "<p>DateTime has most things you will ever need relating to dates and time:\n",
    "    <li>Date</li>\n",
    "    <li>DateTime</li>\n",
    "    <li>Now</li>\n",
    "    <li>Weekday</li>\n",
    "    <li>Day</li>\n",
    "    <li>Month</li>\n",
    "    <li>Year</li>\n",
    "    <li>...</li>\n",
    "</p>"
   ]
  },
  {
   "cell_type": "markdown",
   "metadata": {},
   "source": [
    "<h5>now()</h5>"
   ]
  },
  {
   "cell_type": "code",
   "execution_count": 975,
   "metadata": {},
   "outputs": [
    {
     "data": {
      "text/plain": [
       "datetime.datetime(2020, 5, 7, 16, 34, 45, 371408)"
      ]
     },
     "execution_count": 975,
     "metadata": {},
     "output_type": "execute_result"
    }
   ],
   "source": [
    "myDateTime1 = dt.datetime.now(tz=None)\n",
    "myDateTime1"
   ]
  },
  {
   "cell_type": "markdown",
   "metadata": {},
   "source": [
    "<h5>today()</h5>"
   ]
  },
  {
   "cell_type": "code",
   "execution_count": 976,
   "metadata": {},
   "outputs": [
    {
     "data": {
      "text/plain": [
       "datetime.date(2020, 5, 7)"
      ]
     },
     "execution_count": 976,
     "metadata": {},
     "output_type": "execute_result"
    }
   ],
   "source": [
    "myDate1 = dt.date.today()\n",
    "myDate1"
   ]
  },
  {
   "cell_type": "markdown",
   "metadata": {},
   "source": [
    "<h5>day</h5>"
   ]
  },
  {
   "cell_type": "code",
   "execution_count": 977,
   "metadata": {},
   "outputs": [
    {
     "data": {
      "text/plain": [
       "1"
      ]
     },
     "execution_count": 977,
     "metadata": {},
     "output_type": "execute_result"
    }
   ],
   "source": [
    "myDay1 = dt.date(2020,1,1).day\n",
    "myDay1"
   ]
  },
  {
   "cell_type": "markdown",
   "metadata": {},
   "source": [
    "<h5>weekday()</h5>"
   ]
  },
  {
   "cell_type": "code",
   "execution_count": 978,
   "metadata": {},
   "outputs": [
    {
     "data": {
      "text/plain": [
       "2"
      ]
     },
     "execution_count": 978,
     "metadata": {},
     "output_type": "execute_result"
    }
   ],
   "source": [
    "myDay2 = dt.date(2020,1,1).weekday()\n",
    "myDay2"
   ]
  },
  {
   "cell_type": "markdown",
   "metadata": {},
   "source": [
    "<h5>month</h5>"
   ]
  },
  {
   "cell_type": "code",
   "execution_count": 979,
   "metadata": {},
   "outputs": [
    {
     "data": {
      "text/plain": [
       "1"
      ]
     },
     "execution_count": 979,
     "metadata": {},
     "output_type": "execute_result"
    }
   ],
   "source": [
    "myMonth1 = dt.date(2020,1,1).month\n",
    "myMonth1"
   ]
  },
  {
   "cell_type": "markdown",
   "metadata": {},
   "source": [
    "<h5>year</h5>"
   ]
  },
  {
   "cell_type": "code",
   "execution_count": 980,
   "metadata": {},
   "outputs": [
    {
     "data": {
      "text/plain": [
       "2020"
      ]
     },
     "execution_count": 980,
     "metadata": {},
     "output_type": "execute_result"
    }
   ],
   "source": [
    "myYear1 = dt.date(2020,1,1).year\n",
    "myYear1"
   ]
  },
  {
   "cell_type": "markdown",
   "metadata": {},
   "source": [
    "<h5>ISO Formats</h5>"
   ]
  },
  {
   "cell_type": "code",
   "execution_count": 981,
   "metadata": {},
   "outputs": [
    {
     "data": {
      "text/plain": [
       "datetime.date(2011, 11, 4)"
      ]
     },
     "execution_count": 981,
     "metadata": {},
     "output_type": "execute_result"
    }
   ],
   "source": [
    "myDate2 = dt.date.fromisoformat('2011-11-04')\n",
    "myDate2"
   ]
  },
  {
   "cell_type": "code",
   "execution_count": 982,
   "metadata": {},
   "outputs": [
    {
     "data": {
      "text/plain": [
       "datetime.datetime(2011, 11, 4, 0, 5, 23)"
      ]
     },
     "execution_count": 982,
     "metadata": {},
     "output_type": "execute_result"
    }
   ],
   "source": [
    "myDateTime2 = dt.datetime.fromisoformat('2011-11-04T00:05:23')\n",
    "myDateTime2"
   ]
  },
  {
   "cell_type": "markdown",
   "metadata": {},
   "source": [
    "<br><br>\n",
    "<h4 style=\"color:#c4960c\">Statistics</h4>\n",
    "<hr>\n",
    "<p>The Statistics package holds everythin you eed to run data analysis over your datasets:\n",
    "    <li>NormalDist (Normal Distrubtion)</li>\n",
    "    <li>stdev (Standard Distrubtion)</li>\n",
    "    <li>pvariance</li>\n",
    "    <li>median</li>\n",
    "    <li>multimode</li>\n",
    "    <li>...</li>\n",
    "</p>\n",
    "\n",
    "<br>\n",
    "<h4>Importing Dataset</h4>"
   ]
  },
  {
   "cell_type": "code",
   "execution_count": 983,
   "metadata": {},
   "outputs": [
    {
     "data": {
      "text/html": [
       "<div>\n",
       "<style scoped>\n",
       "    .dataframe tbody tr th:only-of-type {\n",
       "        vertical-align: middle;\n",
       "    }\n",
       "\n",
       "    .dataframe tbody tr th {\n",
       "        vertical-align: top;\n",
       "    }\n",
       "\n",
       "    .dataframe thead th {\n",
       "        text-align: right;\n",
       "    }\n",
       "</style>\n",
       "<table border=\"1\" class=\"dataframe\">\n",
       "  <thead>\n",
       "    <tr style=\"text-align: right;\">\n",
       "      <th></th>\n",
       "      <th>country</th>\n",
       "      <th>year</th>\n",
       "      <th>pop</th>\n",
       "      <th>continent</th>\n",
       "      <th>lifeExp</th>\n",
       "      <th>gdpPercap</th>\n",
       "    </tr>\n",
       "  </thead>\n",
       "  <tbody>\n",
       "    <tr>\n",
       "      <th>0</th>\n",
       "      <td>Afghanistan</td>\n",
       "      <td>1952</td>\n",
       "      <td>8425333.0</td>\n",
       "      <td>Asia</td>\n",
       "      <td>28.801</td>\n",
       "      <td>779.445314</td>\n",
       "    </tr>\n",
       "    <tr>\n",
       "      <th>1</th>\n",
       "      <td>Afghanistan</td>\n",
       "      <td>1957</td>\n",
       "      <td>9240934.0</td>\n",
       "      <td>Asia</td>\n",
       "      <td>30.332</td>\n",
       "      <td>820.853030</td>\n",
       "    </tr>\n",
       "    <tr>\n",
       "      <th>2</th>\n",
       "      <td>Afghanistan</td>\n",
       "      <td>1962</td>\n",
       "      <td>10267083.0</td>\n",
       "      <td>Asia</td>\n",
       "      <td>31.997</td>\n",
       "      <td>853.100710</td>\n",
       "    </tr>\n",
       "    <tr>\n",
       "      <th>3</th>\n",
       "      <td>Afghanistan</td>\n",
       "      <td>1967</td>\n",
       "      <td>11537966.0</td>\n",
       "      <td>Asia</td>\n",
       "      <td>34.020</td>\n",
       "      <td>836.197138</td>\n",
       "    </tr>\n",
       "    <tr>\n",
       "      <th>4</th>\n",
       "      <td>Afghanistan</td>\n",
       "      <td>1972</td>\n",
       "      <td>13079460.0</td>\n",
       "      <td>Asia</td>\n",
       "      <td>36.088</td>\n",
       "      <td>739.981106</td>\n",
       "    </tr>\n",
       "  </tbody>\n",
       "</table>\n",
       "</div>"
      ],
      "text/plain": [
       "       country  year         pop continent  lifeExp   gdpPercap\n",
       "0  Afghanistan  1952   8425333.0      Asia   28.801  779.445314\n",
       "1  Afghanistan  1957   9240934.0      Asia   30.332  820.853030\n",
       "2  Afghanistan  1962  10267083.0      Asia   31.997  853.100710\n",
       "3  Afghanistan  1967  11537966.0      Asia   34.020  836.197138\n",
       "4  Afghanistan  1972  13079460.0      Asia   36.088  739.981106"
      ]
     },
     "execution_count": 983,
     "metadata": {},
     "output_type": "execute_result"
    }
   ],
   "source": [
    "import pandas as pd\n",
    "df = pd.read_csv(r'http://bit.ly/2cLzoxH', header=0)\n",
    "df .head()"
   ]
  },
  {
   "cell_type": "markdown",
   "metadata": {},
   "source": [
    "<h5>Different statistical Tests</h5>"
   ]
  },
  {
   "cell_type": "markdown",
   "metadata": {},
   "source": [
    "<h5>NormalDist.from_samples()</h5>"
   ]
  },
  {
   "cell_type": "code",
   "execution_count": 984,
   "metadata": {},
   "outputs": [
    {
     "data": {
      "text/plain": [
       "NormalDist(mu=59.47443936619718, sigma=12.917107415241192)"
      ]
     },
     "execution_count": 984,
     "metadata": {},
     "output_type": "execute_result"
    }
   ],
   "source": [
    "my_stat1 =stats.NormalDist.from_samples(df['lifeExp'])\n",
    "my_stat1"
   ]
  },
  {
   "cell_type": "markdown",
   "metadata": {},
   "source": [
    "<h5>stdev()</h5>"
   ]
  },
  {
   "cell_type": "code",
   "execution_count": 985,
   "metadata": {},
   "outputs": [
    {
     "data": {
      "text/plain": [
       "12.917107415241192"
      ]
     },
     "execution_count": 985,
     "metadata": {},
     "output_type": "execute_result"
    }
   ],
   "source": [
    "my_stat2 =stats.stdev(df['lifeExp'])\n",
    "my_stat2"
   ]
  },
  {
   "cell_type": "markdown",
   "metadata": {},
   "source": [
    "<h5>pvariance()</h5>"
   ]
  },
  {
   "cell_type": "code",
   "execution_count": 986,
   "metadata": {},
   "outputs": [
    {
     "data": {
      "text/plain": [
       "166.75374633370006"
      ]
     },
     "execution_count": 986,
     "metadata": {},
     "output_type": "execute_result"
    }
   ],
   "source": [
    "my_stat3 =stats.pvariance(df['lifeExp'])\n",
    "my_stat3"
   ]
  },
  {
   "cell_type": "markdown",
   "metadata": {},
   "source": [
    "<h5>multimode()</h5>"
   ]
  },
  {
   "cell_type": "code",
   "execution_count": 987,
   "metadata": {},
   "outputs": [
    {
     "data": {
      "text/plain": [
       "[69.39]"
      ]
     },
     "execution_count": 987,
     "metadata": {},
     "output_type": "execute_result"
    }
   ],
   "source": [
    "my_stat4 =stats.multimode(df['lifeExp'])\n",
    "my_stat4"
   ]
  },
  {
   "cell_type": "markdown",
   "metadata": {},
   "source": [
    "<h5>median_low()</h5>"
   ]
  },
  {
   "cell_type": "code",
   "execution_count": 988,
   "metadata": {},
   "outputs": [
    {
     "data": {
      "text/plain": [
       "60.66"
      ]
     },
     "execution_count": 988,
     "metadata": {},
     "output_type": "execute_result"
    }
   ],
   "source": [
    "my_stat5 =stats.median_low(df['lifeExp'])\n",
    "my_stat5"
   ]
  },
  {
   "cell_type": "markdown",
   "metadata": {},
   "source": [
    "<h5>multimode()</h5>"
   ]
  },
  {
   "cell_type": "code",
   "execution_count": 989,
   "metadata": {},
   "outputs": [
    {
     "data": {
      "text/plain": [
       "[69.39]"
      ]
     },
     "execution_count": 989,
     "metadata": {},
     "output_type": "execute_result"
    }
   ],
   "source": [
    "my_stat6 =stats.multimode(df['lifeExp'])\n",
    "my_stat6"
   ]
  },
  {
   "cell_type": "markdown",
   "metadata": {},
   "source": [
    "<h5>median_high()</h5>"
   ]
  },
  {
   "cell_type": "code",
   "execution_count": 990,
   "metadata": {},
   "outputs": [
    {
     "data": {
      "text/plain": [
       "60.765"
      ]
     },
     "execution_count": 990,
     "metadata": {},
     "output_type": "execute_result"
    }
   ],
   "source": [
    "my_stat7 =stats.median_high(df['lifeExp'])\n",
    "my_stat7"
   ]
  },
  {
   "cell_type": "markdown",
   "metadata": {},
   "source": [
    "<h5>harmonic_mean()</h5>"
   ]
  },
  {
   "cell_type": "code",
   "execution_count": 991,
   "metadata": {},
   "outputs": [
    {
     "data": {
      "text/plain": [
       "56.36126067175875"
      ]
     },
     "execution_count": 991,
     "metadata": {},
     "output_type": "execute_result"
    }
   ],
   "source": [
    "my_stat8 =stats.harmonic_mean(df['lifeExp'])\n",
    "my_stat8"
   ]
  },
  {
   "cell_type": "markdown",
   "metadata": {},
   "source": [
    "<h5>geometric_mean()</h5>"
   ]
  },
  {
   "cell_type": "code",
   "execution_count": 992,
   "metadata": {},
   "outputs": [
    {
     "data": {
      "text/plain": [
       "57.96498331944521"
      ]
     },
     "execution_count": 992,
     "metadata": {},
     "output_type": "execute_result"
    }
   ],
   "source": [
    "my_stat9 =stats.geometric_mean(df['lifeExp'])\n",
    "my_stat9"
   ]
  },
  {
   "cell_type": "markdown",
   "metadata": {},
   "source": [
    "<h5>fmean()</h5>"
   ]
  },
  {
   "cell_type": "code",
   "execution_count": 993,
   "metadata": {},
   "outputs": [
    {
     "data": {
      "text/plain": [
       "59.47443936619718"
      ]
     },
     "execution_count": 993,
     "metadata": {},
     "output_type": "execute_result"
    }
   ],
   "source": [
    "my_stat10 =stats.fmean(df['lifeExp'])\n",
    "my_stat10"
   ]
  },
  {
   "cell_type": "markdown",
   "metadata": {},
   "source": [
    "<h5>mean()</h5>"
   ]
  },
  {
   "cell_type": "code",
   "execution_count": 994,
   "metadata": {},
   "outputs": [
    {
     "data": {
      "text/plain": [
       "59.47443936619718"
      ]
     },
     "execution_count": 994,
     "metadata": {},
     "output_type": "execute_result"
    }
   ],
   "source": [
    "my_stat11 =stats.mean(df['lifeExp'])\n",
    "my_stat11"
   ]
  },
  {
   "cell_type": "markdown",
   "metadata": {},
   "source": [
    "<h5>variance()</h5>"
   ]
  },
  {
   "cell_type": "code",
   "execution_count": 995,
   "metadata": {},
   "outputs": [
    {
     "data": {
      "text/plain": [
       "166.851663976879"
      ]
     },
     "execution_count": 995,
     "metadata": {},
     "output_type": "execute_result"
    }
   ],
   "source": [
    "my_stat12 =stats.variance(df['lifeExp'])\n",
    "my_stat12"
   ]
  },
  {
   "cell_type": "markdown",
   "metadata": {},
   "source": [
    "<h5>quantiles()</h5>"
   ]
  },
  {
   "cell_type": "code",
   "execution_count": 996,
   "metadata": {},
   "outputs": [
    {
     "data": {
      "text/plain": [
       "[48.172000000000004, 60.7125, 70.84649999999999]"
      ]
     },
     "execution_count": 996,
     "metadata": {},
     "output_type": "execute_result"
    }
   ],
   "source": [
    "my_stat13 =stats.quantiles(df['lifeExp'])\n",
    "my_stat13"
   ]
  },
  {
   "cell_type": "markdown",
   "metadata": {},
   "source": [
    "<h5>median_grouped()</h5>"
   ]
  },
  {
   "cell_type": "code",
   "execution_count": 997,
   "metadata": {},
   "outputs": [
    {
     "data": {
      "text/plain": [
       "60.265"
      ]
     },
     "execution_count": 997,
     "metadata": {},
     "output_type": "execute_result"
    }
   ],
   "source": [
    "my_stat14 =stats.median_grouped(df['lifeExp'])\n",
    "my_stat14"
   ]
  },
  {
   "cell_type": "markdown",
   "metadata": {},
   "source": [
    "<br><br>\n",
    "<h2 style=\"color:#c4960c\">Function</h2>\n",
    "<hr>\n",
    "<h5>Excel date (stored as a string) to datetime.date</h5>"
   ]
  },
  {
   "cell_type": "code",
   "execution_count": 998,
   "metadata": {},
   "outputs": [],
   "source": [
    "def str_to_xls_dte(x, opt=1):\n",
    "    \"\"\"\n",
    "    This function converts the Australian date format commonly used in \n",
    "    Microsoft Excel into datetime.date format and data type.\n",
    "    \n",
    "    Supports the following formats:\n",
    "    opt 1:  d/m/yyyy or dd/mm/yyyy (default)\n",
    "    opt 2:  d/m/yy   or d/m/yy\n",
    "    \n",
    "    OPTIONAL SECOND ARGUMENT\n",
    "    in:  date = \"01/02/2002\"\n",
    "    in:  print(str_to_els_dte(date))\n",
    "    out: 2002-02-01\n",
    "    \n",
    "    SECOND ARGUMNT PROVIDED\n",
    "    OPTION 1\n",
    "    in:  date = \"01/02/2002\"\n",
    "    in:  print(str_to_xls_dte(date,1))\n",
    "    out: 2002-02-01\n",
    "    \n",
    "    OPTION 2\n",
    "    in:  date = \"01/02/02\"\n",
    "    in:  print(str_to_xls_dte(date,2))\n",
    "    out: 2002-02-01\n",
    "    \n",
    "    RETURN CLASS\n",
    "    <class 'datetime.date'>\n",
    "    format individual: 2002-02-01\n",
    "    format list:       datetime.date(2020, 2, 1)\n",
    "    \n",
    "    REQUIREMENTS\n",
    "    Packages:\n",
    "        datetime\n",
    "    \"\"\"\n",
    "    \n",
    "    try:\n",
    "        import datetime\n",
    "        if opt == 1:\n",
    "            lst = x.split(\"/\")\n",
    "            d = int(lst[0])\n",
    "            m = int(lst[1])\n",
    "            y = int(lst[2])\n",
    "            return datetime.date(y,m,d)\n",
    "\n",
    "        if opt == 2:\n",
    "            lst = x.split(\"/\")\n",
    "            d = int(lst[0])\n",
    "            m = int(lst[1])\n",
    "            y = int(str(20) + lst[2])\n",
    "            return datetime.date(y,m,d)\n",
    "    except ValueError as err:\n",
    "        raise\n",
    "            "
   ]
  },
  {
   "cell_type": "code",
   "execution_count": 999,
   "metadata": {},
   "outputs": [
    {
     "name": "stdout",
     "output_type": "stream",
     "text": [
      "Help on function str_to_xls_dte in module __main__:\n",
      "\n",
      "str_to_xls_dte(x, opt=1)\n",
      "    This function converts the Australian date format commonly used in \n",
      "    Microsoft Excel into datetime.date format and data type.\n",
      "    \n",
      "    Supports the following formats:\n",
      "    opt 1:  d/m/yyyy or dd/mm/yyyy (default)\n",
      "    opt 2:  d/m/yy   or d/m/yy\n",
      "    \n",
      "    OPTIONAL SECOND ARGUMENT\n",
      "    in:  date = \"01/02/2002\"\n",
      "    in:  print(str_to_els_dte(date))\n",
      "    out: 2002-02-01\n",
      "    \n",
      "    SECOND ARGUMNT PROVIDED\n",
      "    OPTION 1\n",
      "    in:  date = \"01/02/2002\"\n",
      "    in:  print(str_to_xls_dte(date,1))\n",
      "    out: 2002-02-01\n",
      "    \n",
      "    OPTION 2\n",
      "    in:  date = \"01/02/02\"\n",
      "    in:  print(str_to_xls_dte(date,2))\n",
      "    out: 2002-02-01\n",
      "    \n",
      "    RETURN CLASS\n",
      "    <class 'datetime.date'>\n",
      "    format individual: 2002-02-01\n",
      "    format list:       datetime.date(2020, 2, 1)\n",
      "    \n",
      "    REQUIREMENTS\n",
      "    Packages:\n",
      "        datetime\n",
      "\n"
     ]
    }
   ],
   "source": [
    "help(str_to_xls_dte)"
   ]
  },
  {
   "cell_type": "code",
   "execution_count": 1000,
   "metadata": {},
   "outputs": [
    {
     "name": "stdout",
     "output_type": "stream",
     "text": [
      "Without opt:\n",
      "2002-02-01\n",
      "-------------------\n",
      "With opt 1:\n",
      "2002-02-01\n",
      "-------------------\n",
      "With opt 2:\n",
      "<class 'datetime.date'>\n",
      "-------------------\n"
     ]
    }
   ],
   "source": [
    "myXlsDate1 = \"01/02/2002\"\n",
    "\n",
    "print(\"Without opt:\")\n",
    "print(str_to_xls_dte(myXlsDate1))\n",
    "print(\"-------------------\")\n",
    "\n",
    "print(\"With opt 1:\")\n",
    "print(str_to_xls_dte(myXlsDate1,1))\n",
    "print(\"-------------------\")\n",
    "\n",
    "print(\"With opt 2:\")\n",
    "myXlsDate2 = \"01/02/02\"\n",
    "print(type(str_to_xls_dte(myXlsDate2,2)))\n",
    "print(\"-------------------\")"
   ]
  },
  {
   "cell_type": "code",
   "execution_count": 1001,
   "metadata": {},
   "outputs": [
    {
     "data": {
      "text/plain": [
       "datetime.date(2020, 2, 1)"
      ]
     },
     "execution_count": 1001,
     "metadata": {},
     "output_type": "execute_result"
    }
   ],
   "source": [
    "lstXlsDates1 = ['1/2/20', '2/2/20', '3/2/20', '4/2/20']\n",
    "\n",
    "lstXlsDates1 = list(\n",
    "    map(\n",
    "        lambda x: str_to_xls_dte(x,2),\n",
    "        lstXlsDates1\n",
    "    )\n",
    ")\n",
    "\n",
    "lstXlsDates1[0]"
   ]
  },
  {
   "cell_type": "markdown",
   "metadata": {},
   "source": [
    "<br><br>\n",
    "<h2 style=\"color:#c4960c\">Classes</h2>\n",
    "<hr>\n",
    "<p>A class can be utilised for a vatiaty of purposes:\n",
    "    <li>Store and orginise Functions</li>\n",
    "    <li>Store objects to run functions on</li>\n",
    "    <li>Initiation of steps required to be taken before one or more functions are enacted</li>\n",
    "    <li>Run subsequent steps such as logging</li>\n",
    "</p>"
   ]
  },
  {
   "cell_type": "code",
   "execution_count": 1002,
   "metadata": {},
   "outputs": [],
   "source": [
    "class Xls_DateTime:\n",
    "    \"\"\"\n",
    "    Help text goes here\n",
    "    \n",
    "    \"\"\"\n",
    "    import datetime\n",
    "    \n",
    "    \n",
    "    \n",
    "    \n",
    "    #This function in run at everytime the class is called\n",
    "    #It defigns your variables to be used in class functions\n",
    "    def __init__(self, dte, opt= 1):\n",
    "        \"\"\"\n",
    "        Help text goes here\n",
    "        \"\"\"\n",
    "        self.dte = dte\n",
    "        self.opt = opt\n",
    "        self.lst = dte.split(\"/\")\n",
    "        self.d = int(self.lst[0])\n",
    "        self.m = int(self.lst[1])\n",
    "        self.y = int(self.lst[2])\n",
    "        self.my = int(str(20) + self.lst[2])\n",
    "        \n",
    "\n",
    "        \n",
    "        \n",
    "    #Function One\n",
    "    \n",
    "    def xls_date_to_date(self):\n",
    "        \"\"\"\n",
    "        Help text goes here\n",
    "        \"\"\"\n",
    "        if self.opt == 1:\n",
    "            return datetime.date(self.y, self.m, self.d)\n",
    "\n",
    "        if self.opt == 2:\n",
    "            return datetime.date(self.my, self.m, self.d)\n",
    "        \n",
    "        \n",
    "        \n",
    "    #Function Two  \n",
    "    def xls_date_to_datetime(self, h=0, m=0, s=0):\n",
    "        \"\"\"\n",
    "        Help text goes here\n",
    "        \"\"\"\n",
    "        if self.opt == 1:\n",
    "            return datetime.datetime(self.y, self.m, self.d, h,m,s)\n",
    "\n",
    "        if self.opt == 2:\n",
    "            return datetime.datetime(self.my, self.m, self.d, h,m,s )\n",
    "    \n",
    "        \n"
   ]
  },
  {
   "cell_type": "markdown",
   "metadata": {},
   "source": [
    "<h3 style=\"color:#c4960c\">Class Objects</h3>\n",
    "\n",
    "<h5>Set Date Variable</h5>"
   ]
  },
  {
   "cell_type": "code",
   "execution_count": 1003,
   "metadata": {},
   "outputs": [],
   "source": [
    "myXlsDate1 = \"01/02/2002\""
   ]
  },
  {
   "cell_type": "markdown",
   "metadata": {},
   "source": [
    "<br><br><br>\n",
    "<hr>\n",
    "<h4>Create a class object</h4>\n",
    "<hr>"
   ]
  },
  {
   "cell_type": "code",
   "execution_count": 1004,
   "metadata": {},
   "outputs": [],
   "source": [
    "My_Date1 = Xls_DateTime(myXlsDate1, 1)            #Creating a class object"
   ]
  },
  {
   "cell_type": "markdown",
   "metadata": {},
   "source": [
    "<br>\n",
    "<h5>Print a class object</h5>"
   ]
  },
  {
   "cell_type": "code",
   "execution_count": 1005,
   "metadata": {},
   "outputs": [
    {
     "name": "stdout",
     "output_type": "stream",
     "text": [
      "First Class Object\n",
      "xls date: 01/02/2002\n",
      "Option: 1\n"
     ]
    }
   ],
   "source": [
    "print(\"First Class Object\")\n",
    "print(\"xls date:\", My_Date1.dte)                  #Print class.dte                         \n",
    "print(\"Option:\", My_Date1.opt)                    #Print class.opt"
   ]
  },
  {
   "cell_type": "markdown",
   "metadata": {},
   "source": [
    "<br>\n",
    "<h5>Run class.function( ) on object</h5>"
   ]
  },
  {
   "cell_type": "code",
   "execution_count": 1006,
   "metadata": {},
   "outputs": [
    {
     "name": "stdout",
     "output_type": "stream",
     "text": [
      "2002-02-01\n"
     ]
    }
   ],
   "source": [
    "print(My_Date1.xls_date_to_date())                #Run class.function"
   ]
  },
  {
   "cell_type": "markdown",
   "metadata": {},
   "source": [
    "<br><br><br><br>\n",
    "<hr>\n",
    "<h4>Create a class object</h4>\n",
    "<hr>"
   ]
  },
  {
   "cell_type": "code",
   "execution_count": 1007,
   "metadata": {},
   "outputs": [],
   "source": [
    "My_Date2 = Xls_DateTime(\"01/02/2002\")             #Creating a class object (opt = 1 is default)"
   ]
  },
  {
   "cell_type": "markdown",
   "metadata": {},
   "source": [
    "<br>\n",
    "<h5>Print a class object</h5>"
   ]
  },
  {
   "cell_type": "code",
   "execution_count": 1008,
   "metadata": {},
   "outputs": [
    {
     "name": "stdout",
     "output_type": "stream",
     "text": [
      "Second Class Object\n",
      "xls date: 01/02/2002\n",
      "Option: 1\n"
     ]
    }
   ],
   "source": [
    "print(\"Second Class Object\")\n",
    "\n",
    "print(\"xls date:\", My_Date2.dte)                  #Print class.dte              \n",
    "print(\"Option:\", My_Date2.opt)                    #Run class.function"
   ]
  },
  {
   "cell_type": "markdown",
   "metadata": {},
   "source": [
    "<br>\n",
    "<h5>Run class.function( ) on object</h5>"
   ]
  },
  {
   "cell_type": "code",
   "execution_count": 1009,
   "metadata": {},
   "outputs": [
    {
     "name": "stdout",
     "output_type": "stream",
     "text": [
      "2002-02-01\n"
     ]
    }
   ],
   "source": [
    "print(My_Date2.xls_date_to_date())                #Run class.function"
   ]
  },
  {
   "cell_type": "markdown",
   "metadata": {},
   "source": [
    "<br><br><br><br>\n",
    "<hr>\n",
    "<h4>Create a class object</h4>\n",
    "<hr>\n"
   ]
  },
  {
   "cell_type": "code",
   "execution_count": 1010,
   "metadata": {},
   "outputs": [],
   "source": [
    "My_Date3 = Xls_DateTime(\"01/02/02\", 2)            #Creating a class object"
   ]
  },
  {
   "cell_type": "markdown",
   "metadata": {},
   "source": [
    "<br>\n",
    "<h5>Print a class object</h5>"
   ]
  },
  {
   "cell_type": "code",
   "execution_count": 1011,
   "metadata": {},
   "outputs": [
    {
     "name": "stdout",
     "output_type": "stream",
     "text": [
      "Second Class Object\n",
      "xls date: 01/02/02\n",
      "Option: 2\n"
     ]
    }
   ],
   "source": [
    "print(\"Second Class Object\")\n",
    "\n",
    "print(\"xls date:\", My_Date3.dte)                  #Print class.dte      \n",
    "print(\"Option:\", My_Date3.opt)                    #Print class.opt"
   ]
  },
  {
   "cell_type": "markdown",
   "metadata": {},
   "source": [
    "<br>\n",
    "<h5>Run class.function( ) on object</h5>"
   ]
  },
  {
   "cell_type": "code",
   "execution_count": 1012,
   "metadata": {},
   "outputs": [
    {
     "name": "stdout",
     "output_type": "stream",
     "text": [
      "2002-02-01\n"
     ]
    }
   ],
   "source": [
    "print(My_Date3.xls_date_to_date())                #Run class.function"
   ]
  },
  {
   "cell_type": "markdown",
   "metadata": {},
   "source": [
    "\n",
    "\n",
    "<br><br><br><br>\n",
    "<hr>\n",
    "<h4>Call a class.function( ) without making a class object</h4>\n",
    "<hr>"
   ]
  },
  {
   "cell_type": "code",
   "execution_count": 1013,
   "metadata": {},
   "outputs": [
    {
     "data": {
      "text/plain": [
       "datetime.date(2002, 2, 1)"
      ]
     },
     "execution_count": 1013,
     "metadata": {},
     "output_type": "execute_result"
    }
   ],
   "source": [
    "Xls_DateTime(myXlsDate1, 1).xls_date_to_date()"
   ]
  },
  {
   "cell_type": "markdown",
   "metadata": {},
   "source": [
    "<br><br><br><br>\n",
    "<h3 style=\"color:#c4960c\">Reuse class objects accross multiple class.functions</h3>"
   ]
  },
  {
   "cell_type": "markdown",
   "metadata": {},
   "source": [
    "<h4>Create Variable</h4>"
   ]
  },
  {
   "cell_type": "code",
   "execution_count": 1014,
   "metadata": {},
   "outputs": [],
   "source": [
    "myXlsDate2 = \"01/02/2019\""
   ]
  },
  {
   "cell_type": "markdown",
   "metadata": {},
   "source": [
    "<br><br>\n",
    "<h4>Create class object</h4>"
   ]
  },
  {
   "cell_type": "code",
   "execution_count": 1015,
   "metadata": {},
   "outputs": [
    {
     "data": {
      "text/plain": [
       "<__main__.Xls_DateTime at 0x1cc7b375820>"
      ]
     },
     "execution_count": 1015,
     "metadata": {},
     "output_type": "execute_result"
    }
   ],
   "source": [
    "My_Date4 = Xls_DateTime(myXlsDate2, 1)             #Creating a class object\n",
    "My_Date4"
   ]
  },
  {
   "cell_type": "markdown",
   "metadata": {},
   "source": [
    "<br><br>\n",
    "<h4>Print class object</h4>"
   ]
  },
  {
   "cell_type": "code",
   "execution_count": 1016,
   "metadata": {},
   "outputs": [
    {
     "name": "stdout",
     "output_type": "stream",
     "text": [
      "Class Objects:\n",
      "xls date: 01/02/2019\n",
      "Option: 1\n"
     ]
    }
   ],
   "source": [
    "print(\"Class Objects:\")\n",
    "print(\"xls date:\", My_Date4.dte)                   #Print class.dte                         \n",
    "print(\"Option:\", My_Date4.opt)  "
   ]
  },
  {
   "cell_type": "markdown",
   "metadata": {},
   "source": [
    "<br><br>\n",
    "<h4>Run class.function( ) on class objects</h4>"
   ]
  },
  {
   "cell_type": "code",
   "execution_count": 1017,
   "metadata": {},
   "outputs": [
    {
     "name": "stdout",
     "output_type": "stream",
     "text": [
      "Date Function:\n",
      "2019-02-01\n"
     ]
    }
   ],
   "source": [
    "print(\"Date Function:\")\n",
    "print(My_Date4.xls_date_to_date())                 #Run class.function"
   ]
  },
  {
   "cell_type": "code",
   "execution_count": 1018,
   "metadata": {},
   "outputs": [
    {
     "name": "stdout",
     "output_type": "stream",
     "text": [
      "DateTime Function:\n",
      "2019-02-01 12:01:30\n"
     ]
    }
   ],
   "source": [
    "print(\"DateTime Function:\")\n",
    "print(My_Date4.xls_date_to_datetime(12,1,30))      #Run class.function"
   ]
  },
  {
   "cell_type": "markdown",
   "metadata": {},
   "source": [
    "<br><br><br><h3 style=\"color:#c4960c\">Dynamic Function tools: *args (ARGumentS), **kwargs (Key Word ARGumentS)</h3>\n",
    "\n",
    "<h5>*args - Unlimited arguments to be passed into a function</h5>"
   ]
  },
  {
   "cell_type": "code",
   "execution_count": 1019,
   "metadata": {},
   "outputs": [
    {
     "data": {
      "text/plain": [
       "4"
      ]
     },
     "execution_count": 1019,
     "metadata": {},
     "output_type": "execute_result"
    }
   ],
   "source": [
    "def sum_all(*args):\n",
    "    \"\"\"This function sums a range of intagers\"\"\"\n",
    "    i = 0\n",
    "    for x in args:\n",
    "        i = i + x\n",
    "    return i\n",
    "\n",
    "sum_all(1,1,2)"
   ]
  },
  {
   "cell_type": "code",
   "execution_count": 1020,
   "metadata": {},
   "outputs": [
    {
     "data": {
      "text/plain": [
       "[1, 2, 4, 9, 12]"
      ]
     },
     "execution_count": 1020,
     "metadata": {},
     "output_type": "execute_result"
    }
   ],
   "source": [
    "def progressive_sum(*args):\n",
    "    \"\"\"This function returns a list of progressively summed integer\"\"\"\n",
    "    lst = []\n",
    "    i = 0\n",
    "    for x in args:\n",
    "        i = i + x\n",
    "        lst.append(i)\n",
    "    return lst\n",
    "progressive_sum(1,1,2,5,3)"
   ]
  },
  {
   "cell_type": "code",
   "execution_count": 1021,
   "metadata": {},
   "outputs": [
    {
     "data": {
      "text/plain": [
       "5"
      ]
     },
     "execution_count": 1021,
     "metadata": {},
     "output_type": "execute_result"
    }
   ],
   "source": [
    "def count_all(*args):\n",
    "    \"\"\"This function returns a list of progressively summed integer\"\"\"\n",
    "    lst = []\n",
    "    i = 0\n",
    "    for x in args:\n",
    "        i = i + 1\n",
    "    return i \n",
    "count_all(1,1,2,5,3)"
   ]
  },
  {
   "cell_type": "markdown",
   "metadata": {},
   "source": [
    "<h5>**kwargs - Uniquely named variables to be passed in to a function</h5>"
   ]
  },
  {
   "cell_type": "code",
   "execution_count": 1022,
   "metadata": {},
   "outputs": [
    {
     "data": {
      "text/plain": [
       "[['Name: ', 'Last', 'Jones'], ['Name: ', 'First', 'Ben']]"
      ]
     },
     "execution_count": 1022,
     "metadata": {},
     "output_type": "execute_result"
    }
   ],
   "source": [
    "def list_details(title,**kwargs):\n",
    "    \"\"\"This function sums a range of intagers\"\"\"\n",
    "    lst = []\n",
    "    for x ,y in kwargs.items():\n",
    "        lst.append([title, x, y])\n",
    "    return lst\n",
    "\n",
    "\n",
    "list_details(\"Name: \", Last = \"Jones\", First = \"Ben\")"
   ]
  },
  {
   "cell_type": "markdown",
   "metadata": {},
   "source": [
    "<h5>Variable  -  *args   -   **kwargs</h5>"
   ]
  },
  {
   "cell_type": "code",
   "execution_count": 1054,
   "metadata": {},
   "outputs": [],
   "source": [
    "def list_name_details(adj, *args,**kwargs):\n",
    "    \"\"\"This function sums a range of intagers\"\"\"\n",
    "    \n",
    "    #Internal Variables\n",
    "    lst1 = []\n",
    "    lst2 = []\n",
    "    cnt = 2\n",
    "    \n",
    "    for y in args:                           #Loop through the *args\n",
    "        cnt *= 2                                  #Factor to increase by\n",
    "        \n",
    "        for x in kwargs.items():             #Loop through the **kwargs\n",
    "            z = x[1] * adj * cnt                   #Some non-important calculations\n",
    "            lst1.append([y, x[0], z])              #Append results to a list\n",
    "        \n",
    "        \n",
    "    for j in lst1:                                  #Loop though the list\n",
    "        lst2.append([j[0], j[1], j[2]])                 #Append results to a new list\n",
    "\n",
    "    return lst2"
   ]
  },
  {
   "cell_type": "markdown",
   "metadata": {},
   "source": [
    "<h5>Dynamic Functionality</h5>"
   ]
  },
  {
   "cell_type": "code",
   "execution_count": 1055,
   "metadata": {},
   "outputs": [
    {
     "data": {
      "text/plain": [
       "[['Mains', 'Height', 30.0],\n",
       " ['Mains', 'Width', 18.0],\n",
       " ['Mains', 'Depth', 45.0],\n",
       " ['Backup', 'Height', 60.0],\n",
       " ['Backup', 'Width', 36.0],\n",
       " ['Backup', 'Depth', 90.0],\n",
       " ['Down', 'Height', 120.0],\n",
       " ['Down', 'Width', 72.0],\n",
       " ['Down', 'Depth', 180.0],\n",
       " ['Reserver', 'Height', 240.0],\n",
       " ['Reserver', 'Width', 144.0],\n",
       " ['Reserver', 'Depth', 360.0]]"
      ]
     },
     "execution_count": 1055,
     "metadata": {},
     "output_type": "execute_result"
    }
   ],
   "source": [
    "my_func_lst = list_name_details(15, \"Mains\", \"Backup\", \"Down\", \"Reserver\", Height = 0.5, Width = 0.3, Depth = .75)\n",
    "my_func_lst"
   ]
  },
  {
   "cell_type": "markdown",
   "metadata": {},
   "source": [
    "<h4>What you can do with that data</h4>"
   ]
  },
  {
   "cell_type": "code",
   "execution_count": 1056,
   "metadata": {},
   "outputs": [
    {
     "data": {
      "text/html": [
       "<div>\n",
       "<style scoped>\n",
       "    .dataframe tbody tr th:only-of-type {\n",
       "        vertical-align: middle;\n",
       "    }\n",
       "\n",
       "    .dataframe tbody tr th {\n",
       "        vertical-align: top;\n",
       "    }\n",
       "\n",
       "    .dataframe thead th {\n",
       "        text-align: right;\n",
       "    }\n",
       "</style>\n",
       "<table border=\"1\" class=\"dataframe\">\n",
       "  <thead>\n",
       "    <tr style=\"text-align: right;\">\n",
       "      <th></th>\n",
       "      <th>Area</th>\n",
       "      <th>('Size', 'Depth')</th>\n",
       "      <th>('Size', 'Height')</th>\n",
       "      <th>('Size', 'Width')</th>\n",
       "    </tr>\n",
       "  </thead>\n",
       "  <tbody>\n",
       "    <tr>\n",
       "      <th>0</th>\n",
       "      <td>Backup</td>\n",
       "      <td>90.0</td>\n",
       "      <td>60.0</td>\n",
       "      <td>36.0</td>\n",
       "    </tr>\n",
       "    <tr>\n",
       "      <th>1</th>\n",
       "      <td>Down</td>\n",
       "      <td>180.0</td>\n",
       "      <td>120.0</td>\n",
       "      <td>72.0</td>\n",
       "    </tr>\n",
       "    <tr>\n",
       "      <th>2</th>\n",
       "      <td>Mains</td>\n",
       "      <td>45.0</td>\n",
       "      <td>30.0</td>\n",
       "      <td>18.0</td>\n",
       "    </tr>\n",
       "    <tr>\n",
       "      <th>3</th>\n",
       "      <td>Reserver</td>\n",
       "      <td>360.0</td>\n",
       "      <td>240.0</td>\n",
       "      <td>144.0</td>\n",
       "    </tr>\n",
       "  </tbody>\n",
       "</table>\n",
       "</div>"
      ],
      "text/plain": [
       "       Area  ('Size', 'Depth')  ('Size', 'Height')  ('Size', 'Width')\n",
       "0    Backup               90.0                60.0               36.0\n",
       "1      Down              180.0               120.0               72.0\n",
       "2     Mains               45.0                30.0               18.0\n",
       "3  Reserver              360.0               240.0              144.0"
      ]
     },
     "execution_count": 1056,
     "metadata": {},
     "output_type": "execute_result"
    }
   ],
   "source": [
    "import pandas as pd\n",
    "import numpy as np\n",
    "df = pd.DataFrame(my_func_lst)\n",
    "df.columns =([\"Area\",\"Feature\",\"Size\"])\n",
    "df = df.pivot_table(values=[\"Size\"], index=[\"Area\"], columns=[\"Feature\"], aggfunc=np.sum)\n",
    "df = pd.DataFrame(df.to_records())\n",
    "df"
   ]
  },
  {
   "cell_type": "code",
   "execution_count": null,
   "metadata": {},
   "outputs": [],
   "source": []
  }
 ],
 "metadata": {
  "kernelspec": {
   "display_name": "myenv",
   "language": "python",
   "name": "myenv"
  },
  "language_info": {
   "codemirror_mode": {
    "name": "ipython",
    "version": 3
   },
   "file_extension": ".py",
   "mimetype": "text/x-python",
   "name": "python",
   "nbconvert_exporter": "python",
   "pygments_lexer": "ipython3",
   "version": "3.8.2"
  }
 },
 "nbformat": 4,
 "nbformat_minor": 4
}
