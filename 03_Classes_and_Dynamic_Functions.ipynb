{
 "cells": [
  {
   "cell_type": "markdown",
   "metadata": {},
   "source": [
    "<h1 style=\"color:#c4960c\">Classes and Dynamic Functions Lesson</h1>\n",
    "<br>"
   ]
  },
  {
   "cell_type": "markdown",
   "metadata": {},
   "source": [
    "<h2 style=\"color:#c4960c\">Functions</h2>\n",
    "<hr>\n",
    "<h4>Imports</h4>"
   ]
  },
  {
   "cell_type": "code",
   "execution_count": 1,
   "metadata": {},
   "outputs": [],
   "source": [
    "import datetime"
   ]
  },
  {
   "cell_type": "markdown",
   "metadata": {},
   "source": [
    "<h3 style=\"color:#c4960c\">Dynamic Function tools: *args (ARGumentS), **kwargs (Key Word ARGumentS)</h3>\n",
    "<br><br>\n",
    "<h5><b style=\"color:#c4960c\">*args</b> - Unlimited arguments to be passed into a function</h5>"
   ]
  },
  {
   "cell_type": "code",
   "execution_count": 2,
   "metadata": {},
   "outputs": [
    {
     "name": "stdout",
     "output_type": "stream",
     "text": [
      "Word 1\n",
      "word 2\n",
      "word 3\n"
     ]
    }
   ],
   "source": [
    "def my_args_fun(*args):\n",
    "    for x in args:\n",
    "        print(x)\n",
    "\n",
    "my_args_fun(\"Word 1\", 'word 2', \"word 3\")"
   ]
  },
  {
   "cell_type": "code",
   "execution_count": 3,
   "metadata": {},
   "outputs": [
    {
     "data": {
      "text/plain": [
       "8"
      ]
     },
     "execution_count": 3,
     "metadata": {},
     "output_type": "execute_result"
    }
   ],
   "source": [
    "def sum_all(*args):\n",
    "    \"\"\"This function sums a range of intagers\"\"\"\n",
    "    i = 0\n",
    "    for x in args:\n",
    "        i = i + x\n",
    "    return i\n",
    "\n",
    "sum_all(5,1,2)"
   ]
  },
  {
   "cell_type": "code",
   "execution_count": 4,
   "metadata": {},
   "outputs": [
    {
     "data": {
      "text/plain": [
       "[1, 2, 4, 9, 12]"
      ]
     },
     "execution_count": 4,
     "metadata": {},
     "output_type": "execute_result"
    }
   ],
   "source": [
    "def progressive_sum(*args):\n",
    "    \"\"\"This function returns a list of progressively summed integer\"\"\"\n",
    "    lst = []\n",
    "    i = 0\n",
    "    for x in args:\n",
    "        i = i + x\n",
    "        lst.append(i)\n",
    "    return lst\n",
    "\n",
    "progressive_sum(1,1,2,5,3)"
   ]
  },
  {
   "cell_type": "code",
   "execution_count": 5,
   "metadata": {},
   "outputs": [
    {
     "data": {
      "text/plain": [
       "5"
      ]
     },
     "execution_count": 5,
     "metadata": {},
     "output_type": "execute_result"
    }
   ],
   "source": [
    "def count_all(*args):\n",
    "    \"\"\"This function returns a list of progressively summed integer\"\"\"\n",
    "    lst = []\n",
    "    i = 0\n",
    "    for x in args:\n",
    "        i = i + 1\n",
    "    return i \n",
    "count_all(1,1,2,5,3)"
   ]
  },
  {
   "cell_type": "code",
   "execution_count": 9,
   "metadata": {},
   "outputs": [],
   "source": [
    "def count_words(string, *args):\n",
    "    punctuations = '''!()-[]{};:'\"\\,<>./?@#$%^&*_~'''\n",
    "    \n",
    "    no_punct = \"\"\n",
    "    for char in string:\n",
    "        if char not in punctuations:\n",
    "            no_punct = no_punct + char\n",
    "            \n",
    "    string = no_punct\n",
    "    \n",
    "    string = string.lower().split()\n",
    "    lst = []\n",
    "    \n",
    "    for x in args:\n",
    "        cnt = 0\n",
    "        x = x.lower()\n",
    "        for y in string:\n",
    "            if x == y:\n",
    "                cnt += 1\n",
    "        lst.append([x, cnt])\n",
    "    return lst"
   ]
  },
  {
   "cell_type": "code",
   "execution_count": 10,
   "metadata": {},
   "outputs": [],
   "source": [
    "string = \"Archaic Greece was the period in Greek history lasting from the eighth century BC to the second Persian invasion of Greece in 480 BC,[1] following the Greek Dark Ages and succeeded by the Classical period. In the archaic period, Greeks settled across the Mediterranean and the Black Seas, as far as Marseille in the west and Trapezus (Trebizond) in the east; and by the end of the archaic period, they were part of a trade network that spanned the entire Mediterranean.\""
   ]
  },
  {
   "cell_type": "code",
   "execution_count": 12,
   "metadata": {},
   "outputs": [
    {
     "data": {
      "text/plain": [
       "[['the', 13], ['and', 4], ['of', 3]]"
      ]
     },
     "execution_count": 12,
     "metadata": {},
     "output_type": "execute_result"
    }
   ],
   "source": [
    "count_words(string,\"the\",\"and\", \"of\")"
   ]
  },
  {
   "cell_type": "markdown",
   "metadata": {},
   "source": [
    "<br><br>\n",
    "<h5><b style=\"color:#c4960c\">**kwargs</b> - Uniquely named variables to be passed in to a function</h5>"
   ]
  },
  {
   "cell_type": "code",
   "execution_count": null,
   "metadata": {},
   "outputs": [],
   "source": [
    "def list_details(title,**kwargs):\n",
    "    \"\"\"This function sums a range of intagers\"\"\"\n",
    "    lst = []\n",
    "    for x ,y in kwargs.items():\n",
    "        lst.append([title, x, y])\n",
    "    return lst\n",
    "\n",
    "\n",
    "list_details(\"Name: \", Last = \"Jones\", First = \"Ben\")"
   ]
  },
  {
   "cell_type": "markdown",
   "metadata": {},
   "source": [
    "<h5>Variable  -  *args   -   **kwargs</h5>"
   ]
  },
  {
   "cell_type": "code",
   "execution_count": null,
   "metadata": {},
   "outputs": [],
   "source": [
    "def list_name_details(adj, *args,**kwargs):\n",
    "    \"\"\"This function sums a range of intagers\"\"\"\n",
    "    \n",
    "    #Internal Variables\n",
    "    lst1 = []\n",
    "    lst2 = []\n",
    "    cnt = 2\n",
    "    \n",
    "    for y in args:                           #Loop through the *args\n",
    "        cnt *= 2                                  #Factor to increase by\n",
    "        \n",
    "        for x in kwargs.items():             #Loop through the **kwargs\n",
    "            z = x[1] * adj * cnt                   #Some non-important calculations\n",
    "            lst1.append([y, x[0], z])              #Append results to a list\n",
    "        \n",
    "        \n",
    "    for j in lst1:                                  #Loop though the list\n",
    "        lst2.append([j[0], j[1], j[2]])                 #Append results to a new list\n",
    "\n",
    "    return lst2"
   ]
  },
  {
   "cell_type": "markdown",
   "metadata": {},
   "source": [
    "<h5>Dynamic Functionality</h5>"
   ]
  },
  {
   "cell_type": "code",
   "execution_count": null,
   "metadata": {},
   "outputs": [],
   "source": [
    "my_func_lst = list_name_details(15, \"Mains\", \"Backup\", \"Down\", \"Reserver\", Height = 0.5, Width = 0.3, Depth = .75)\n",
    "my_func_lst"
   ]
  },
  {
   "cell_type": "markdown",
   "metadata": {},
   "source": [
    "<h4>What you can do with that data</h4>"
   ]
  },
  {
   "cell_type": "code",
   "execution_count": null,
   "metadata": {},
   "outputs": [],
   "source": [
    "import pandas as pd\n",
    "import numpy as np\n",
    "df = pd.DataFrame(my_func_lst)\n",
    "df.columns =([\"Area\",\"Feature\",\"Size\"])\n",
    "df = df.pivot_table(values=[\"Size\"], index=[\"Area\"], columns=[\"Feature\"], aggfunc=np.sum)\n",
    "df = pd.DataFrame(df.to_records())\n",
    "df"
   ]
  },
  {
   "cell_type": "code",
   "execution_count": null,
   "metadata": {},
   "outputs": [],
   "source": [
    "def str_to_xls_dte(x, opt=20):\n",
    "    \"\"\"\n",
    "    This function converts the Australian date format commonly used in \n",
    "    Microsoft Excel into datetime.date format and data type.\n",
    "    \n",
    "    Supports the following formats:\n",
    "        \"d/m/yyyy\"\n",
    "        \"dd/mm/yyyy \"\n",
    "        \"dd/mm/yy\"\n",
    "        \"d/m/yy\"\n",
    "    \n",
    "    opt is only used if the date is two digets:\n",
    "        opt is 20 by default:\n",
    "            dd/mm/yy = dd/mm/20yy\n",
    "\n",
    "        opt 19 (provided):\n",
    "            dd/mm/yy = dd/mm/19yy\n",
    "    \n",
    "    RETURN CLASS\n",
    "    <class 'datetime.date'>\n",
    "    format individual: 2002-02-01\n",
    "    format list:       datetime.date(2020, 2, 1)\n",
    "    \n",
    "    REQUIREMENTS\n",
    "    Packages:\n",
    "        datetime\n",
    "    \"\"\"\n",
    "    \n",
    "    try:\n",
    "        import datetime\n",
    "        lst = x.split(\"/\")\n",
    "        d = int(lst[0])\n",
    "        m = int(lst[1])\n",
    "    \n",
    "        if len(lst[2]) == 2:\n",
    "            y = int(str(opt) + lst[2])\n",
    "        else:\n",
    "            y = int(lst[2])\n",
    "            \n",
    "        return datetime.date(y,m,d)\n",
    "    \n",
    "    except ValueError as err:\n",
    "        raise\n",
    "            "
   ]
  },
  {
   "cell_type": "code",
   "execution_count": null,
   "metadata": {},
   "outputs": [],
   "source": [
    "help(str_to_xls_dte)"
   ]
  },
  {
   "cell_type": "code",
   "execution_count": null,
   "metadata": {},
   "outputs": [],
   "source": [
    "myXlsDate1 = \"01/02/2002\"\n",
    "\n",
    "print(\"Without opt:\")\n",
    "print(str_to_xls_dte(myXlsDate1))\n",
    "print(\"-------------------\")\n",
    "\n",
    "myXlsDate2 = \"01/02/02\"\n",
    "\n",
    "print(\"With opt 1:\")\n",
    "print(str_to_xls_dte(myXlsDate2,19))\n",
    "print(\"-------------------\")\n",
    "\n",
    "print(\"With opt 2:\")\n",
    "print(str_to_xls_dte(myXlsDate2,21))\n",
    "print(\"-------------------\")"
   ]
  },
  {
   "cell_type": "code",
   "execution_count": null,
   "metadata": {},
   "outputs": [],
   "source": [
    "lstXlsDates1 = ['1/2/20', '2/2/20', '3/2/20', '4/2/20']\n",
    "\n",
    "lstXlsDates1 = list(\n",
    "    map(\n",
    "        lambda x: str_to_xls_dte(x,20),\n",
    "        lstXlsDates1\n",
    "    )\n",
    ")\n",
    "\n",
    "lstXlsDates1"
   ]
  },
  {
   "cell_type": "markdown",
   "metadata": {},
   "source": [
    "<br><br>\n",
    "<h2 style=\"color:#c4960c\">Classes</h2>\n",
    "<hr>\n",
    "<p>A class can be utilised for a vatiaty of purposes:\n",
    "    <li>Store and orginise Functions</li>\n",
    "    <li>Store objects to run functions on</li>\n",
    "    <li>Initiation of steps required to be taken before one or more functions are enacted</li>\n",
    "    <li>Run subsequent steps such as logging</li>\n",
    "    <h5>Function underscores</h5>\n",
    "    <li>_ a single leading underscore means you're not supposed to access it \"from the outside</li>\n",
    "    <li>__two leading underscores (w/o trailing underscores) carry the message even more forcefully</li>\n",
    "    <li>Single trailing underscore_ naming convention is used to avoid conflicts with Python keywords.</li>\n",
    "    <li>Names that have leading and trailing double underscores (“dunders”) are reserved for special use like the__init__ </li>\n",
    "</p>"
   ]
  },
  {
   "cell_type": "code",
   "execution_count": null,
   "metadata": {},
   "outputs": [],
   "source": [
    "class Xls_DateTime:\n",
    "    \"\"\"\n",
    "    Help text goes here\n",
    "    \n",
    "    \"\"\"\n",
    "    import datetime\n",
    "    \n",
    "    #____________________________________________________________________________________________\n",
    "    #This function in run at everytime the class is called\n",
    "    #It defigns your variables to be used in class functions\n",
    "    def __init__(self, dte, opt=20):\n",
    "        \"\"\"\n",
    "        Help text goes here\n",
    "        \"\"\"\n",
    "        self.dte = dte\n",
    "        self.opt = opt\n",
    "        self.lst = dte.split(\"/\")\n",
    "        self.d = int(self.lst[0])\n",
    "        self.m = int(self.lst[1])\n",
    "        \n",
    "        if len(self.lst[2]) == 2:\n",
    "            self.y = int(str(opt) + self.lst[2])\n",
    "        else:\n",
    "            self.y = int(self.lst[2])\n",
    "\n",
    "        self.yy = self.y\n",
    "    #____________________________________________________________________________________________\n",
    "    #Function One\n",
    "    def xls_date_to_date(self):\n",
    "        \"\"\"\n",
    "        Help text goes here\n",
    "        \"\"\"\n",
    "        return datetime.date(self.y, self.m, self.d)\n",
    "        \n",
    "    #____________________________________________________________________________________________    \n",
    "    #Function Two  \n",
    "    def xls_date_to_datetime(self, h=0, m=0, s=0):\n",
    "        \"\"\"\n",
    "        Help text goes here\n",
    "        \"\"\"\n",
    "        return datetime.datetime(self.y, self.m, self.d, h,m,s)\n",
    "\n",
    "    \n",
    "    \n",
    "    #____________________________________________________________________________________________\n",
    "    #The below functions display readable responces for developers (__repr__) and users (__str__)\n",
    "    \n",
    "    #Without these two functions, any query on the created data/class object would look like:\n",
    "        #<__main__.Xls_DateTime object at 0x0000026BAB5C7850>\n",
    "    \n",
    "    #Instead of this:\n",
    "        #Xls_DateTime('2020',2)          (__repr__)\n",
    "        #Xls_DateTime('01/02/20',20)     (__str__)\n",
    "    \n",
    "    \n",
    "    def __repr__(self):\n",
    "        return \"Xls_DateTime('{}',{})\".format(self.y, self.m, self.y)\n",
    "    \n",
    "    def __str__(self):\n",
    "        return \"Xls_DateTime('{}',{})\".format(self.dte, self.opt)\n",
    "    #____________________________________________________________________________________________"
   ]
  },
  {
   "cell_type": "markdown",
   "metadata": {},
   "source": [
    "<h3 style=\"color:#c4960c\">Class Objects</h3>\n",
    "\n",
    "<h5>Set Date Variable</h5>"
   ]
  },
  {
   "cell_type": "code",
   "execution_count": null,
   "metadata": {},
   "outputs": [],
   "source": [
    "myXlsDate1 = \"01/02/20\""
   ]
  },
  {
   "cell_type": "markdown",
   "metadata": {},
   "source": [
    "<br><br><br>\n",
    "<hr>\n",
    "<h4>Create a class object</h4>\n",
    "<hr>"
   ]
  },
  {
   "cell_type": "code",
   "execution_count": null,
   "metadata": {},
   "outputs": [],
   "source": [
    "My_Date1 = Xls_DateTime(myXlsDate1, 20)           #Creating a class object"
   ]
  },
  {
   "cell_type": "markdown",
   "metadata": {},
   "source": [
    "<br>\n",
    "<h5>Print a class object</h5>"
   ]
  },
  {
   "cell_type": "code",
   "execution_count": null,
   "metadata": {},
   "outputs": [],
   "source": [
    "print(\"First Class Object\")\n",
    "print(\"xls date:\", My_Date1.dte)                  #Print class.dte                         \n",
    "print(\"Option:\", My_Date1.opt)                    #Print class.opt\n",
    "print(\"\")\n",
    "print(My_Date1.__repr__())                        #__repr__ Developer notes\n",
    "print(My_Date1.__str__())                         #__str__  User notes\n",
    "print(My_Date1)                                   #Auto defers to __str__; however, without __str__ is will divert do __repr__\n",
    "print(My_Date1.__dict__)                          #__dict__ Displays all the __init__ variables as a dictionary (Great for debugging)\n",
    "print(My_Date1.__dict__[\"lst\"])                   #__dict__[\"DictItem\"] Displays a spicific variable in your class object"
   ]
  },
  {
   "cell_type": "markdown",
   "metadata": {},
   "source": [
    "<br>\n",
    "<h5>Run class.function( ) on object</h5>"
   ]
  },
  {
   "cell_type": "code",
   "execution_count": null,
   "metadata": {},
   "outputs": [],
   "source": [
    "print(My_Date1.xls_date_to_date())                #Run class.function"
   ]
  },
  {
   "cell_type": "markdown",
   "metadata": {},
   "source": [
    "<br><br><br><br>\n",
    "<hr>\n",
    "<h4>Create a class object</h4>\n",
    "<hr>"
   ]
  },
  {
   "cell_type": "code",
   "execution_count": null,
   "metadata": {},
   "outputs": [],
   "source": [
    "My_Date2 = Xls_DateTime(\"01/02/2002\")             #Creating a class object (opt = 1 is default)"
   ]
  },
  {
   "cell_type": "markdown",
   "metadata": {},
   "source": [
    "<br>\n",
    "<h5>Print a class object</h5>"
   ]
  },
  {
   "cell_type": "code",
   "execution_count": null,
   "metadata": {},
   "outputs": [],
   "source": [
    "print(\"Second Class Object\")\n",
    "\n",
    "print(\"xls date:\", My_Date2.dte)                  #Print class.dte              \n",
    "print(\"Option:\", My_Date2.opt)                    #Run class.function"
   ]
  },
  {
   "cell_type": "markdown",
   "metadata": {},
   "source": [
    "<br>\n",
    "<h5>Run class.function( ) on object</h5>"
   ]
  },
  {
   "cell_type": "code",
   "execution_count": null,
   "metadata": {},
   "outputs": [],
   "source": [
    "print(My_Date2.xls_date_to_date())                #Run class.function"
   ]
  },
  {
   "cell_type": "markdown",
   "metadata": {},
   "source": [
    "<br><br><br><br>\n",
    "<hr>\n",
    "<h4>Create a class object</h4>\n",
    "<hr>\n"
   ]
  },
  {
   "cell_type": "code",
   "execution_count": null,
   "metadata": {},
   "outputs": [],
   "source": [
    "My_Date3 = Xls_DateTime(\"01/02/02\", 2)            #Creating a class object"
   ]
  },
  {
   "cell_type": "markdown",
   "metadata": {},
   "source": [
    "<br>\n",
    "<h5>Print a class object</h5>"
   ]
  },
  {
   "cell_type": "code",
   "execution_count": null,
   "metadata": {},
   "outputs": [],
   "source": [
    "print(\"Second Class Object\")\n",
    "\n",
    "print(\"xls date:\", My_Date3.dte)                  #Print class.dte      \n",
    "print(\"Option:\", My_Date3.opt)                    #Print class.opt"
   ]
  },
  {
   "cell_type": "markdown",
   "metadata": {},
   "source": [
    "<br>\n",
    "<h5>Run class.function( ) on object</h5>"
   ]
  },
  {
   "cell_type": "code",
   "execution_count": null,
   "metadata": {},
   "outputs": [],
   "source": [
    "print(My_Date3.xls_date_to_date())                #Run class.function"
   ]
  },
  {
   "cell_type": "markdown",
   "metadata": {},
   "source": [
    "\n",
    "\n",
    "<br><br><br><br>\n",
    "<hr>\n",
    "<h4>Call a class.function( ) without making a class object</h4>\n",
    "<hr>"
   ]
  },
  {
   "cell_type": "code",
   "execution_count": null,
   "metadata": {},
   "outputs": [],
   "source": [
    "Xls_DateTime(myXlsDate1, 1).xls_date_to_date()"
   ]
  },
  {
   "cell_type": "markdown",
   "metadata": {},
   "source": [
    "<br><br><br><br>\n",
    "<h3 style=\"color:#c4960c\">Reuse class objects accross multiple class.functions</h3>"
   ]
  },
  {
   "cell_type": "markdown",
   "metadata": {},
   "source": [
    "<h4>Create Variable</h4>"
   ]
  },
  {
   "cell_type": "code",
   "execution_count": null,
   "metadata": {},
   "outputs": [],
   "source": [
    "myXlsDate2 = \"01/02/2019\""
   ]
  },
  {
   "cell_type": "markdown",
   "metadata": {},
   "source": [
    "<br><br>\n",
    "<h4>Create class object</h4>"
   ]
  },
  {
   "cell_type": "code",
   "execution_count": null,
   "metadata": {},
   "outputs": [],
   "source": [
    "My_Date4 = Xls_DateTime(myXlsDate2)             #Creating a class object\n",
    "My_Date4"
   ]
  },
  {
   "cell_type": "markdown",
   "metadata": {},
   "source": [
    "<br><br>\n",
    "<h4>Print class object</h4>"
   ]
  },
  {
   "cell_type": "code",
   "execution_count": null,
   "metadata": {},
   "outputs": [],
   "source": [
    "print(\"Class Objects:\")\n",
    "print(\"xls date:\", My_Date4.dte)                   #Print class.dte                         \n",
    "print(\"Option:\", My_Date4.opt)  "
   ]
  },
  {
   "cell_type": "markdown",
   "metadata": {},
   "source": [
    "<br><br>\n",
    "<h4>Run class.function( ) on class objects</h4>"
   ]
  },
  {
   "cell_type": "code",
   "execution_count": null,
   "metadata": {},
   "outputs": [],
   "source": [
    "print(\"Date Function:\")\n",
    "print(My_Date4.xls_date_to_date())                 #Run class.function"
   ]
  },
  {
   "cell_type": "code",
   "execution_count": null,
   "metadata": {},
   "outputs": [],
   "source": [
    "print(\"DateTime Function:\")\n",
    "print(My_Date4.xls_date_to_datetime(12,1,30))      #Run class.function"
   ]
  },
  {
   "cell_type": "code",
   "execution_count": null,
   "metadata": {},
   "outputs": [],
   "source": []
  }
 ],
 "metadata": {
  "kernelspec": {
   "display_name": "myenv",
   "language": "python",
   "name": "myenv"
  },
  "language_info": {
   "codemirror_mode": {
    "name": "ipython",
    "version": 3
   },
   "file_extension": ".py",
   "mimetype": "text/x-python",
   "name": "python",
   "nbconvert_exporter": "python",
   "pygments_lexer": "ipython3",
   "version": "3.8.2"
  }
 },
 "nbformat": 4,
 "nbformat_minor": 4
}
